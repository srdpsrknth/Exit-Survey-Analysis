{
 "cells": [
  {
   "cell_type": "markdown",
   "metadata": {},
   "source": [
    "# Guided Project: Clean And Analyze Employee Exit Surveys\n",
    "\n",
    "In this guided project, we'll work with exit surveys from employees of the Department of Education, Training and Employment (DETE) and the Technical and Further Education (TAFE) institute in Queensland, Australia. You can find the TAFE exit survey [here](https://data.gov.au/dataset/ds-qld-89970a3b-182b-41ea-aea2-6f9f17b5907e/details?q=exit%20survey) and the survey for the DETE [here](https://data.gov.au/dataset/ds-qld-fe96ff30-d157-4a81-851d-215f2a0fe26d/details?q=exit%20survey).\n",
    "\n",
    "In this project, we'll try to answer the following questions:\n",
    "\n",
    "- Are employees who only worked for the institutes for a short period of time resigning due to some kind of dissatisfaction? What about employees who have been there longer?\n",
    "- Are younger employees resigning due to some kind of dissatisfaction? What about older employees?\n",
    "\n",
    "We will combine the results for both surveys to answer these questions. You can find description of the columns of the datasets in the README file.\n",
    "\n",
    "Let's start by reading in the datasets and exploring them."
   ]
  },
  {
   "cell_type": "code",
   "execution_count": 219,
   "metadata": {},
   "outputs": [],
   "source": [
    "import pandas as pd\n",
    "import numpy as np\n",
    "\n",
    "import matplotlib.pyplot as plt\n",
    "\n",
    "%matplotlib inline\n",
    "\n",
    "plt.style.use('fivethirtyeight')"
   ]
  },
  {
   "cell_type": "code",
   "execution_count": 220,
   "metadata": {
    "collapsed": true
   },
   "outputs": [],
   "source": [
    "dete_survey = pd.read_csv('dete_survey.csv')\n",
    "tafe_survey = pd.read_csv('tafe_survey.csv')"
   ]
  },
  {
   "cell_type": "code",
   "execution_count": 221,
   "metadata": {},
   "outputs": [
    {
     "name": "stdout",
     "output_type": "stream",
     "text": [
      "<class 'pandas.core.frame.DataFrame'>\n",
      "RangeIndex: 822 entries, 0 to 821\n",
      "Data columns (total 56 columns):\n",
      "ID                                     822 non-null int64\n",
      "SeparationType                         822 non-null object\n",
      "Cease Date                             822 non-null object\n",
      "DETE Start Date                        822 non-null object\n",
      "Role Start Date                        822 non-null object\n",
      "Position                               817 non-null object\n",
      "Classification                         455 non-null object\n",
      "Region                                 822 non-null object\n",
      "Business Unit                          126 non-null object\n",
      "Employment Status                      817 non-null object\n",
      "Career move to public sector           822 non-null bool\n",
      "Career move to private sector          822 non-null bool\n",
      "Interpersonal conflicts                822 non-null bool\n",
      "Job dissatisfaction                    822 non-null bool\n",
      "Dissatisfaction with the department    822 non-null bool\n",
      "Physical work environment              822 non-null bool\n",
      "Lack of recognition                    822 non-null bool\n",
      "Lack of job security                   822 non-null bool\n",
      "Work location                          822 non-null bool\n",
      "Employment conditions                  822 non-null bool\n",
      "Maternity/family                       822 non-null bool\n",
      "Relocation                             822 non-null bool\n",
      "Study/Travel                           822 non-null bool\n",
      "Ill Health                             822 non-null bool\n",
      "Traumatic incident                     822 non-null bool\n",
      "Work life balance                      822 non-null bool\n",
      "Workload                               822 non-null bool\n",
      "None of the above                      822 non-null bool\n",
      "Professional Development               808 non-null object\n",
      "Opportunities for promotion            735 non-null object\n",
      "Staff morale                           816 non-null object\n",
      "Workplace issue                        788 non-null object\n",
      "Physical environment                   817 non-null object\n",
      "Worklife balance                       815 non-null object\n",
      "Stress and pressure support            810 non-null object\n",
      "Performance of supervisor              813 non-null object\n",
      "Peer support                           812 non-null object\n",
      "Initiative                             813 non-null object\n",
      "Skills                                 811 non-null object\n",
      "Coach                                  767 non-null object\n",
      "Career Aspirations                     746 non-null object\n",
      "Feedback                               792 non-null object\n",
      "Further PD                             768 non-null object\n",
      "Communication                          814 non-null object\n",
      "My say                                 812 non-null object\n",
      "Information                            816 non-null object\n",
      "Kept informed                          813 non-null object\n",
      "Wellness programs                      766 non-null object\n",
      "Health & Safety                        793 non-null object\n",
      "Gender                                 798 non-null object\n",
      "Age                                    811 non-null object\n",
      "Aboriginal                             16 non-null object\n",
      "Torres Strait                          3 non-null object\n",
      "South Sea                              7 non-null object\n",
      "Disability                             23 non-null object\n",
      "NESB                                   32 non-null object\n",
      "dtypes: bool(18), int64(1), object(37)\n",
      "memory usage: 258.6+ KB\n"
     ]
    }
   ],
   "source": [
    "dete_survey.info()"
   ]
  },
  {
   "cell_type": "code",
   "execution_count": 222,
   "metadata": {},
   "outputs": [
    {
     "data": {
      "text/html": [
       "<div>\n",
       "<style scoped>\n",
       "    .dataframe tbody tr th:only-of-type {\n",
       "        vertical-align: middle;\n",
       "    }\n",
       "\n",
       "    .dataframe tbody tr th {\n",
       "        vertical-align: top;\n",
       "    }\n",
       "\n",
       "    .dataframe thead th {\n",
       "        text-align: right;\n",
       "    }\n",
       "</style>\n",
       "<table border=\"1\" class=\"dataframe\">\n",
       "  <thead>\n",
       "    <tr style=\"text-align: right;\">\n",
       "      <th></th>\n",
       "      <th>ID</th>\n",
       "      <th>SeparationType</th>\n",
       "      <th>Cease Date</th>\n",
       "      <th>DETE Start Date</th>\n",
       "      <th>Role Start Date</th>\n",
       "      <th>Position</th>\n",
       "      <th>Classification</th>\n",
       "      <th>Region</th>\n",
       "      <th>Business Unit</th>\n",
       "      <th>Employment Status</th>\n",
       "      <th>...</th>\n",
       "      <th>Kept informed</th>\n",
       "      <th>Wellness programs</th>\n",
       "      <th>Health &amp; Safety</th>\n",
       "      <th>Gender</th>\n",
       "      <th>Age</th>\n",
       "      <th>Aboriginal</th>\n",
       "      <th>Torres Strait</th>\n",
       "      <th>South Sea</th>\n",
       "      <th>Disability</th>\n",
       "      <th>NESB</th>\n",
       "    </tr>\n",
       "  </thead>\n",
       "  <tbody>\n",
       "    <tr>\n",
       "      <th>0</th>\n",
       "      <td>1</td>\n",
       "      <td>Ill Health Retirement</td>\n",
       "      <td>08/2012</td>\n",
       "      <td>1984</td>\n",
       "      <td>2004</td>\n",
       "      <td>Public Servant</td>\n",
       "      <td>A01-A04</td>\n",
       "      <td>Central Office</td>\n",
       "      <td>Corporate Strategy and Peformance</td>\n",
       "      <td>Permanent Full-time</td>\n",
       "      <td>...</td>\n",
       "      <td>N</td>\n",
       "      <td>N</td>\n",
       "      <td>N</td>\n",
       "      <td>Male</td>\n",
       "      <td>56-60</td>\n",
       "      <td>NaN</td>\n",
       "      <td>NaN</td>\n",
       "      <td>NaN</td>\n",
       "      <td>NaN</td>\n",
       "      <td>Yes</td>\n",
       "    </tr>\n",
       "    <tr>\n",
       "      <th>1</th>\n",
       "      <td>2</td>\n",
       "      <td>Voluntary Early Retirement (VER)</td>\n",
       "      <td>08/2012</td>\n",
       "      <td>Not Stated</td>\n",
       "      <td>Not Stated</td>\n",
       "      <td>Public Servant</td>\n",
       "      <td>AO5-AO7</td>\n",
       "      <td>Central Office</td>\n",
       "      <td>Corporate Strategy and Peformance</td>\n",
       "      <td>Permanent Full-time</td>\n",
       "      <td>...</td>\n",
       "      <td>N</td>\n",
       "      <td>N</td>\n",
       "      <td>N</td>\n",
       "      <td>Male</td>\n",
       "      <td>56-60</td>\n",
       "      <td>NaN</td>\n",
       "      <td>NaN</td>\n",
       "      <td>NaN</td>\n",
       "      <td>NaN</td>\n",
       "      <td>NaN</td>\n",
       "    </tr>\n",
       "    <tr>\n",
       "      <th>2</th>\n",
       "      <td>3</td>\n",
       "      <td>Voluntary Early Retirement (VER)</td>\n",
       "      <td>05/2012</td>\n",
       "      <td>2011</td>\n",
       "      <td>2011</td>\n",
       "      <td>Schools Officer</td>\n",
       "      <td>NaN</td>\n",
       "      <td>Central Office</td>\n",
       "      <td>Education Queensland</td>\n",
       "      <td>Permanent Full-time</td>\n",
       "      <td>...</td>\n",
       "      <td>N</td>\n",
       "      <td>N</td>\n",
       "      <td>N</td>\n",
       "      <td>Male</td>\n",
       "      <td>61 or older</td>\n",
       "      <td>NaN</td>\n",
       "      <td>NaN</td>\n",
       "      <td>NaN</td>\n",
       "      <td>NaN</td>\n",
       "      <td>NaN</td>\n",
       "    </tr>\n",
       "    <tr>\n",
       "      <th>3</th>\n",
       "      <td>4</td>\n",
       "      <td>Resignation-Other reasons</td>\n",
       "      <td>05/2012</td>\n",
       "      <td>2005</td>\n",
       "      <td>2006</td>\n",
       "      <td>Teacher</td>\n",
       "      <td>Primary</td>\n",
       "      <td>Central Queensland</td>\n",
       "      <td>NaN</td>\n",
       "      <td>Permanent Full-time</td>\n",
       "      <td>...</td>\n",
       "      <td>A</td>\n",
       "      <td>N</td>\n",
       "      <td>A</td>\n",
       "      <td>Female</td>\n",
       "      <td>36-40</td>\n",
       "      <td>NaN</td>\n",
       "      <td>NaN</td>\n",
       "      <td>NaN</td>\n",
       "      <td>NaN</td>\n",
       "      <td>NaN</td>\n",
       "    </tr>\n",
       "    <tr>\n",
       "      <th>4</th>\n",
       "      <td>5</td>\n",
       "      <td>Age Retirement</td>\n",
       "      <td>05/2012</td>\n",
       "      <td>1970</td>\n",
       "      <td>1989</td>\n",
       "      <td>Head of Curriculum/Head of Special Education</td>\n",
       "      <td>NaN</td>\n",
       "      <td>South East</td>\n",
       "      <td>NaN</td>\n",
       "      <td>Permanent Full-time</td>\n",
       "      <td>...</td>\n",
       "      <td>N</td>\n",
       "      <td>A</td>\n",
       "      <td>M</td>\n",
       "      <td>Female</td>\n",
       "      <td>61 or older</td>\n",
       "      <td>NaN</td>\n",
       "      <td>NaN</td>\n",
       "      <td>NaN</td>\n",
       "      <td>NaN</td>\n",
       "      <td>NaN</td>\n",
       "    </tr>\n",
       "  </tbody>\n",
       "</table>\n",
       "<p>5 rows × 56 columns</p>\n",
       "</div>"
      ],
      "text/plain": [
       "   ID                    SeparationType Cease Date DETE Start Date  \\\n",
       "0   1             Ill Health Retirement    08/2012            1984   \n",
       "1   2  Voluntary Early Retirement (VER)    08/2012      Not Stated   \n",
       "2   3  Voluntary Early Retirement (VER)    05/2012            2011   \n",
       "3   4         Resignation-Other reasons    05/2012            2005   \n",
       "4   5                    Age Retirement    05/2012            1970   \n",
       "\n",
       "  Role Start Date                                      Position  \\\n",
       "0            2004                                Public Servant   \n",
       "1      Not Stated                                Public Servant   \n",
       "2            2011                               Schools Officer   \n",
       "3            2006                                       Teacher   \n",
       "4            1989  Head of Curriculum/Head of Special Education   \n",
       "\n",
       "  Classification              Region                      Business Unit  \\\n",
       "0        A01-A04      Central Office  Corporate Strategy and Peformance   \n",
       "1        AO5-AO7      Central Office  Corporate Strategy and Peformance   \n",
       "2            NaN      Central Office               Education Queensland   \n",
       "3        Primary  Central Queensland                                NaN   \n",
       "4            NaN          South East                                NaN   \n",
       "\n",
       "     Employment Status  ...   Kept informed  Wellness programs  \\\n",
       "0  Permanent Full-time  ...               N                  N   \n",
       "1  Permanent Full-time  ...               N                  N   \n",
       "2  Permanent Full-time  ...               N                  N   \n",
       "3  Permanent Full-time  ...               A                  N   \n",
       "4  Permanent Full-time  ...               N                  A   \n",
       "\n",
       "   Health & Safety  Gender          Age  Aboriginal  Torres Strait  South Sea  \\\n",
       "0                N    Male        56-60         NaN            NaN        NaN   \n",
       "1                N    Male        56-60         NaN            NaN        NaN   \n",
       "2                N    Male  61 or older         NaN            NaN        NaN   \n",
       "3                A  Female        36-40         NaN            NaN        NaN   \n",
       "4                M  Female  61 or older         NaN            NaN        NaN   \n",
       "\n",
       "   Disability  NESB  \n",
       "0         NaN   Yes  \n",
       "1         NaN   NaN  \n",
       "2         NaN   NaN  \n",
       "3         NaN   NaN  \n",
       "4         NaN   NaN  \n",
       "\n",
       "[5 rows x 56 columns]"
      ]
     },
     "execution_count": 222,
     "metadata": {},
     "output_type": "execute_result"
    }
   ],
   "source": [
    "dete_survey.head()"
   ]
  },
  {
   "cell_type": "code",
   "execution_count": 223,
   "metadata": {},
   "outputs": [
    {
     "name": "stdout",
     "output_type": "stream",
     "text": [
      "<class 'pandas.core.frame.DataFrame'>\n",
      "RangeIndex: 702 entries, 0 to 701\n",
      "Data columns (total 72 columns):\n",
      "Record ID                                                                                                                                                        702 non-null float64\n",
      "Institute                                                                                                                                                        702 non-null object\n",
      "WorkArea                                                                                                                                                         702 non-null object\n",
      "CESSATION YEAR                                                                                                                                                   695 non-null float64\n",
      "Reason for ceasing employment                                                                                                                                    701 non-null object\n",
      "Contributing Factors. Career Move - Public Sector                                                                                                                437 non-null object\n",
      "Contributing Factors. Career Move - Private Sector                                                                                                               437 non-null object\n",
      "Contributing Factors. Career Move - Self-employment                                                                                                              437 non-null object\n",
      "Contributing Factors. Ill Health                                                                                                                                 437 non-null object\n",
      "Contributing Factors. Maternity/Family                                                                                                                           437 non-null object\n",
      "Contributing Factors. Dissatisfaction                                                                                                                            437 non-null object\n",
      "Contributing Factors. Job Dissatisfaction                                                                                                                        437 non-null object\n",
      "Contributing Factors. Interpersonal Conflict                                                                                                                     437 non-null object\n",
      "Contributing Factors. Study                                                                                                                                      437 non-null object\n",
      "Contributing Factors. Travel                                                                                                                                     437 non-null object\n",
      "Contributing Factors. Other                                                                                                                                      437 non-null object\n",
      "Contributing Factors. NONE                                                                                                                                       437 non-null object\n",
      "Main Factor. Which of these was the main factor for leaving?                                                                                                     113 non-null object\n",
      "InstituteViews. Topic:1. I feel the senior leadership had a clear vision and direction                                                                           608 non-null object\n",
      "InstituteViews. Topic:2. I was given access to skills training to help me do my job better                                                                       613 non-null object\n",
      "InstituteViews. Topic:3. I was given adequate opportunities for personal development                                                                             610 non-null object\n",
      "InstituteViews. Topic:4. I was given adequate opportunities for promotion within %Institute]Q25LBL%                                                              608 non-null object\n",
      "InstituteViews. Topic:5. I felt the salary for the job was right for the responsibilities I had                                                                  615 non-null object\n",
      "InstituteViews. Topic:6. The organisation recognised when staff did good work                                                                                    607 non-null object\n",
      "InstituteViews. Topic:7. Management was generally supportive of me                                                                                               614 non-null object\n",
      "InstituteViews. Topic:8. Management was generally supportive of my team                                                                                          608 non-null object\n",
      "InstituteViews. Topic:9. I was kept informed of the changes in the organisation which would affect me                                                            610 non-null object\n",
      "InstituteViews. Topic:10. Staff morale was positive within the Institute                                                                                         602 non-null object\n",
      "InstituteViews. Topic:11. If I had a workplace issue it was dealt with quickly                                                                                   601 non-null object\n",
      "InstituteViews. Topic:12. If I had a workplace issue it was dealt with efficiently                                                                               597 non-null object\n",
      "InstituteViews. Topic:13. If I had a workplace issue it was dealt with discreetly                                                                                601 non-null object\n",
      "WorkUnitViews. Topic:14. I was satisfied with the quality of the management and supervision within my work unit                                                  609 non-null object\n",
      "WorkUnitViews. Topic:15. I worked well with my colleagues                                                                                                        605 non-null object\n",
      "WorkUnitViews. Topic:16. My job was challenging and interesting                                                                                                  607 non-null object\n",
      "WorkUnitViews. Topic:17. I was encouraged to use my initiative in the course of my work                                                                          610 non-null object\n",
      "WorkUnitViews. Topic:18. I had sufficient contact with other people in my job                                                                                    613 non-null object\n",
      "WorkUnitViews. Topic:19. I was given adequate support and co-operation by my peers to enable me to do my job                                                     609 non-null object\n",
      "WorkUnitViews. Topic:20. I was able to use the full range of my skills in my job                                                                                 609 non-null object\n",
      "WorkUnitViews. Topic:21. I was able to use the full range of my abilities in my job. ; Category:Level of Agreement; Question:YOUR VIEWS ABOUT YOUR WORK UNIT]    608 non-null object\n",
      "WorkUnitViews. Topic:22. I was able to use the full range of my knowledge in my job                                                                              608 non-null object\n",
      "WorkUnitViews. Topic:23. My job provided sufficient variety                                                                                                      611 non-null object\n",
      "WorkUnitViews. Topic:24. I was able to cope with the level of stress and pressure in my job                                                                      610 non-null object\n",
      "WorkUnitViews. Topic:25. My job allowed me to balance the demands of work and family to my satisfaction                                                          611 non-null object\n",
      "WorkUnitViews. Topic:26. My supervisor gave me adequate personal recognition and feedback on my performance                                                      606 non-null object\n",
      "WorkUnitViews. Topic:27. My working environment was satisfactory e.g. sufficient space, good lighting, suitable seating and working area                         610 non-null object\n",
      "WorkUnitViews. Topic:28. I was given the opportunity to mentor and coach others in order for me to pass on my skills and knowledge prior to my cessation date    609 non-null object\n",
      "WorkUnitViews. Topic:29. There was adequate communication between staff in my unit                                                                               603 non-null object\n",
      "WorkUnitViews. Topic:30. Staff morale was positive within my work unit                                                                                           606 non-null object\n",
      "Induction. Did you undertake Workplace Induction?                                                                                                                619 non-null object\n",
      "InductionInfo. Topic:Did you undertake a Corporate Induction?                                                                                                    432 non-null object\n",
      "InductionInfo. Topic:Did you undertake a Institute Induction?                                                                                                    483 non-null object\n",
      "InductionInfo. Topic: Did you undertake Team Induction?                                                                                                          440 non-null object\n",
      "InductionInfo. Face to Face Topic:Did you undertake a Corporate Induction; Category:How it was conducted?                                                        555 non-null object\n",
      "InductionInfo. On-line Topic:Did you undertake a Corporate Induction; Category:How it was conducted?                                                             555 non-null object\n",
      "InductionInfo. Induction Manual Topic:Did you undertake a Corporate Induction?                                                                                   555 non-null object\n",
      "InductionInfo. Face to Face Topic:Did you undertake a Institute Induction?                                                                                       530 non-null object\n",
      "InductionInfo. On-line Topic:Did you undertake a Institute Induction?                                                                                            555 non-null object\n",
      "InductionInfo. Induction Manual Topic:Did you undertake a Institute Induction?                                                                                   553 non-null object\n",
      "InductionInfo. Face to Face Topic: Did you undertake Team Induction; Category?                                                                                   555 non-null object\n",
      "InductionInfo. On-line Topic: Did you undertake Team Induction?process you undertook and how it was conducted.]                                                  555 non-null object\n",
      "InductionInfo. Induction Manual Topic: Did you undertake Team Induction?                                                                                         555 non-null object\n",
      "Workplace. Topic:Did you and your Manager develop a Performance and Professional Development Plan (PPDP)?                                                        608 non-null object\n",
      "Workplace. Topic:Does your workplace promote a work culture free from all forms of unlawful discrimination?                                                      594 non-null object\n",
      "Workplace. Topic:Does your workplace promote and practice the principles of employment equity?                                                                   587 non-null object\n",
      "Workplace. Topic:Does your workplace value the diversity of its employees?                                                                                       586 non-null object\n",
      "Workplace. Topic:Would you recommend the Institute as an employer to others?                                                                                     581 non-null object\n",
      "Gender. What is your Gender?                                                                                                                                     596 non-null object\n",
      "CurrentAge. Current Age                                                                                                                                          596 non-null object\n",
      "Employment Type. Employment Type                                                                                                                                 596 non-null object\n",
      "Classification. Classification                                                                                                                                   596 non-null object\n",
      "LengthofServiceOverall. Overall Length of Service at Institute (in years)                                                                                        596 non-null object\n",
      "LengthofServiceCurrent. Length of Service at current workplace (in years)                                                                                        596 non-null object\n",
      "dtypes: float64(2), object(70)\n",
      "memory usage: 395.0+ KB\n"
     ]
    }
   ],
   "source": [
    "tafe_survey.info()"
   ]
  },
  {
   "cell_type": "code",
   "execution_count": 224,
   "metadata": {},
   "outputs": [
    {
     "data": {
      "text/html": [
       "<div>\n",
       "<style scoped>\n",
       "    .dataframe tbody tr th:only-of-type {\n",
       "        vertical-align: middle;\n",
       "    }\n",
       "\n",
       "    .dataframe tbody tr th {\n",
       "        vertical-align: top;\n",
       "    }\n",
       "\n",
       "    .dataframe thead th {\n",
       "        text-align: right;\n",
       "    }\n",
       "</style>\n",
       "<table border=\"1\" class=\"dataframe\">\n",
       "  <thead>\n",
       "    <tr style=\"text-align: right;\">\n",
       "      <th></th>\n",
       "      <th>Record ID</th>\n",
       "      <th>Institute</th>\n",
       "      <th>WorkArea</th>\n",
       "      <th>CESSATION YEAR</th>\n",
       "      <th>Reason for ceasing employment</th>\n",
       "      <th>Contributing Factors. Career Move - Public Sector</th>\n",
       "      <th>Contributing Factors. Career Move - Private Sector</th>\n",
       "      <th>Contributing Factors. Career Move - Self-employment</th>\n",
       "      <th>Contributing Factors. Ill Health</th>\n",
       "      <th>Contributing Factors. Maternity/Family</th>\n",
       "      <th>...</th>\n",
       "      <th>Workplace. Topic:Does your workplace promote a work culture free from all forms of unlawful discrimination?</th>\n",
       "      <th>Workplace. Topic:Does your workplace promote and practice the principles of employment equity?</th>\n",
       "      <th>Workplace. Topic:Does your workplace value the diversity of its employees?</th>\n",
       "      <th>Workplace. Topic:Would you recommend the Institute as an employer to others?</th>\n",
       "      <th>Gender. What is your Gender?</th>\n",
       "      <th>CurrentAge. Current Age</th>\n",
       "      <th>Employment Type. Employment Type</th>\n",
       "      <th>Classification. Classification</th>\n",
       "      <th>LengthofServiceOverall. Overall Length of Service at Institute (in years)</th>\n",
       "      <th>LengthofServiceCurrent. Length of Service at current workplace (in years)</th>\n",
       "    </tr>\n",
       "  </thead>\n",
       "  <tbody>\n",
       "    <tr>\n",
       "      <th>0</th>\n",
       "      <td>6.341330e+17</td>\n",
       "      <td>Southern Queensland Institute of TAFE</td>\n",
       "      <td>Non-Delivery (corporate)</td>\n",
       "      <td>2010.0</td>\n",
       "      <td>Contract Expired</td>\n",
       "      <td>NaN</td>\n",
       "      <td>NaN</td>\n",
       "      <td>NaN</td>\n",
       "      <td>NaN</td>\n",
       "      <td>NaN</td>\n",
       "      <td>...</td>\n",
       "      <td>Yes</td>\n",
       "      <td>Yes</td>\n",
       "      <td>Yes</td>\n",
       "      <td>Yes</td>\n",
       "      <td>Female</td>\n",
       "      <td>26  30</td>\n",
       "      <td>Temporary Full-time</td>\n",
       "      <td>Administration (AO)</td>\n",
       "      <td>1-2</td>\n",
       "      <td>1-2</td>\n",
       "    </tr>\n",
       "    <tr>\n",
       "      <th>1</th>\n",
       "      <td>6.341337e+17</td>\n",
       "      <td>Mount Isa Institute of TAFE</td>\n",
       "      <td>Non-Delivery (corporate)</td>\n",
       "      <td>2010.0</td>\n",
       "      <td>Retirement</td>\n",
       "      <td>-</td>\n",
       "      <td>-</td>\n",
       "      <td>-</td>\n",
       "      <td>-</td>\n",
       "      <td>-</td>\n",
       "      <td>...</td>\n",
       "      <td>Yes</td>\n",
       "      <td>Yes</td>\n",
       "      <td>Yes</td>\n",
       "      <td>Yes</td>\n",
       "      <td>NaN</td>\n",
       "      <td>NaN</td>\n",
       "      <td>NaN</td>\n",
       "      <td>NaN</td>\n",
       "      <td>NaN</td>\n",
       "      <td>NaN</td>\n",
       "    </tr>\n",
       "    <tr>\n",
       "      <th>2</th>\n",
       "      <td>6.341388e+17</td>\n",
       "      <td>Mount Isa Institute of TAFE</td>\n",
       "      <td>Delivery (teaching)</td>\n",
       "      <td>2010.0</td>\n",
       "      <td>Retirement</td>\n",
       "      <td>-</td>\n",
       "      <td>-</td>\n",
       "      <td>-</td>\n",
       "      <td>-</td>\n",
       "      <td>-</td>\n",
       "      <td>...</td>\n",
       "      <td>Yes</td>\n",
       "      <td>Yes</td>\n",
       "      <td>Yes</td>\n",
       "      <td>Yes</td>\n",
       "      <td>NaN</td>\n",
       "      <td>NaN</td>\n",
       "      <td>NaN</td>\n",
       "      <td>NaN</td>\n",
       "      <td>NaN</td>\n",
       "      <td>NaN</td>\n",
       "    </tr>\n",
       "    <tr>\n",
       "      <th>3</th>\n",
       "      <td>6.341399e+17</td>\n",
       "      <td>Mount Isa Institute of TAFE</td>\n",
       "      <td>Non-Delivery (corporate)</td>\n",
       "      <td>2010.0</td>\n",
       "      <td>Resignation</td>\n",
       "      <td>-</td>\n",
       "      <td>-</td>\n",
       "      <td>-</td>\n",
       "      <td>-</td>\n",
       "      <td>-</td>\n",
       "      <td>...</td>\n",
       "      <td>Yes</td>\n",
       "      <td>Yes</td>\n",
       "      <td>Yes</td>\n",
       "      <td>Yes</td>\n",
       "      <td>NaN</td>\n",
       "      <td>NaN</td>\n",
       "      <td>NaN</td>\n",
       "      <td>NaN</td>\n",
       "      <td>NaN</td>\n",
       "      <td>NaN</td>\n",
       "    </tr>\n",
       "    <tr>\n",
       "      <th>4</th>\n",
       "      <td>6.341466e+17</td>\n",
       "      <td>Southern Queensland Institute of TAFE</td>\n",
       "      <td>Delivery (teaching)</td>\n",
       "      <td>2010.0</td>\n",
       "      <td>Resignation</td>\n",
       "      <td>-</td>\n",
       "      <td>Career Move - Private Sector</td>\n",
       "      <td>-</td>\n",
       "      <td>-</td>\n",
       "      <td>-</td>\n",
       "      <td>...</td>\n",
       "      <td>Yes</td>\n",
       "      <td>Yes</td>\n",
       "      <td>Yes</td>\n",
       "      <td>Yes</td>\n",
       "      <td>Male</td>\n",
       "      <td>41  45</td>\n",
       "      <td>Permanent Full-time</td>\n",
       "      <td>Teacher (including LVT)</td>\n",
       "      <td>3-4</td>\n",
       "      <td>3-4</td>\n",
       "    </tr>\n",
       "  </tbody>\n",
       "</table>\n",
       "<p>5 rows × 72 columns</p>\n",
       "</div>"
      ],
      "text/plain": [
       "      Record ID                              Institute  \\\n",
       "0  6.341330e+17  Southern Queensland Institute of TAFE   \n",
       "1  6.341337e+17            Mount Isa Institute of TAFE   \n",
       "2  6.341388e+17            Mount Isa Institute of TAFE   \n",
       "3  6.341399e+17            Mount Isa Institute of TAFE   \n",
       "4  6.341466e+17  Southern Queensland Institute of TAFE   \n",
       "\n",
       "                   WorkArea  CESSATION YEAR Reason for ceasing employment  \\\n",
       "0  Non-Delivery (corporate)          2010.0              Contract Expired   \n",
       "1  Non-Delivery (corporate)          2010.0                    Retirement   \n",
       "2       Delivery (teaching)          2010.0                    Retirement   \n",
       "3  Non-Delivery (corporate)          2010.0                   Resignation   \n",
       "4       Delivery (teaching)          2010.0                   Resignation   \n",
       "\n",
       "  Contributing Factors. Career Move - Public Sector   \\\n",
       "0                                                NaN   \n",
       "1                                                  -   \n",
       "2                                                  -   \n",
       "3                                                  -   \n",
       "4                                                  -   \n",
       "\n",
       "  Contributing Factors. Career Move - Private Sector   \\\n",
       "0                                                NaN    \n",
       "1                                                  -    \n",
       "2                                                  -    \n",
       "3                                                  -    \n",
       "4                       Career Move - Private Sector    \n",
       "\n",
       "  Contributing Factors. Career Move - Self-employment  \\\n",
       "0                                                NaN    \n",
       "1                                                  -    \n",
       "2                                                  -    \n",
       "3                                                  -    \n",
       "4                                                  -    \n",
       "\n",
       "  Contributing Factors. Ill Health Contributing Factors. Maternity/Family  \\\n",
       "0                              NaN                                    NaN   \n",
       "1                                -                                      -   \n",
       "2                                -                                      -   \n",
       "3                                -                                      -   \n",
       "4                                -                                      -   \n",
       "\n",
       "                                     ...                                     \\\n",
       "0                                    ...                                      \n",
       "1                                    ...                                      \n",
       "2                                    ...                                      \n",
       "3                                    ...                                      \n",
       "4                                    ...                                      \n",
       "\n",
       "  Workplace. Topic:Does your workplace promote a work culture free from all forms of unlawful discrimination?  \\\n",
       "0                                                Yes                                                            \n",
       "1                                                Yes                                                            \n",
       "2                                                Yes                                                            \n",
       "3                                                Yes                                                            \n",
       "4                                                Yes                                                            \n",
       "\n",
       "  Workplace. Topic:Does your workplace promote and practice the principles of employment equity?  \\\n",
       "0                                                Yes                                               \n",
       "1                                                Yes                                               \n",
       "2                                                Yes                                               \n",
       "3                                                Yes                                               \n",
       "4                                                Yes                                               \n",
       "\n",
       "  Workplace. Topic:Does your workplace value the diversity of its employees?  \\\n",
       "0                                                Yes                           \n",
       "1                                                Yes                           \n",
       "2                                                Yes                           \n",
       "3                                                Yes                           \n",
       "4                                                Yes                           \n",
       "\n",
       "  Workplace. Topic:Would you recommend the Institute as an employer to others?  \\\n",
       "0                                                Yes                             \n",
       "1                                                Yes                             \n",
       "2                                                Yes                             \n",
       "3                                                Yes                             \n",
       "4                                                Yes                             \n",
       "\n",
       "  Gender. What is your Gender? CurrentAge. Current Age  \\\n",
       "0                       Female                  26  30   \n",
       "1                          NaN                     NaN   \n",
       "2                          NaN                     NaN   \n",
       "3                          NaN                     NaN   \n",
       "4                         Male                  41  45   \n",
       "\n",
       "  Employment Type. Employment Type Classification. Classification  \\\n",
       "0              Temporary Full-time            Administration (AO)   \n",
       "1                              NaN                            NaN   \n",
       "2                              NaN                            NaN   \n",
       "3                              NaN                            NaN   \n",
       "4              Permanent Full-time        Teacher (including LVT)   \n",
       "\n",
       "  LengthofServiceOverall. Overall Length of Service at Institute (in years)  \\\n",
       "0                                                1-2                          \n",
       "1                                                NaN                          \n",
       "2                                                NaN                          \n",
       "3                                                NaN                          \n",
       "4                                                3-4                          \n",
       "\n",
       "  LengthofServiceCurrent. Length of Service at current workplace (in years)  \n",
       "0                                                1-2                         \n",
       "1                                                NaN                         \n",
       "2                                                NaN                         \n",
       "3                                                NaN                         \n",
       "4                                                3-4                         \n",
       "\n",
       "[5 rows x 72 columns]"
      ]
     },
     "execution_count": 224,
     "metadata": {},
     "output_type": "execute_result"
    }
   ],
   "source": [
    "tafe_survey.head()"
   ]
  },
  {
   "cell_type": "markdown",
   "metadata": {},
   "source": [
    "## Cleaning the data\n",
    "\n",
    "From the above few cells we see:\n",
    "\n",
    "- The `dete_survey` dataframe contains 'Not Stated' values that indicate values are missing, but they aren't represented as NaN.\n",
    "- Both the `dete_survey` and `tafe_survey` dataframes contain many columns that we don't need to complete our analysis.\n",
    "- Each dataframe contains many of the same columns, but the column names are different.\n",
    "- There are multiple columns/answers that indicate an employee resigned because they were dissatisfied.\n",
    "\n",
    "To start, we'll handle the first two issues."
   ]
  },
  {
   "cell_type": "code",
   "execution_count": 225,
   "metadata": {},
   "outputs": [
    {
     "data": {
      "text/html": [
       "<div>\n",
       "<style scoped>\n",
       "    .dataframe tbody tr th:only-of-type {\n",
       "        vertical-align: middle;\n",
       "    }\n",
       "\n",
       "    .dataframe tbody tr th {\n",
       "        vertical-align: top;\n",
       "    }\n",
       "\n",
       "    .dataframe thead th {\n",
       "        text-align: right;\n",
       "    }\n",
       "</style>\n",
       "<table border=\"1\" class=\"dataframe\">\n",
       "  <thead>\n",
       "    <tr style=\"text-align: right;\">\n",
       "      <th></th>\n",
       "      <th>ID</th>\n",
       "      <th>SeparationType</th>\n",
       "      <th>Cease Date</th>\n",
       "      <th>DETE Start Date</th>\n",
       "      <th>Role Start Date</th>\n",
       "      <th>Position</th>\n",
       "      <th>Classification</th>\n",
       "      <th>Region</th>\n",
       "      <th>Business Unit</th>\n",
       "      <th>Employment Status</th>\n",
       "      <th>...</th>\n",
       "      <th>Kept informed</th>\n",
       "      <th>Wellness programs</th>\n",
       "      <th>Health &amp; Safety</th>\n",
       "      <th>Gender</th>\n",
       "      <th>Age</th>\n",
       "      <th>Aboriginal</th>\n",
       "      <th>Torres Strait</th>\n",
       "      <th>South Sea</th>\n",
       "      <th>Disability</th>\n",
       "      <th>NESB</th>\n",
       "    </tr>\n",
       "  </thead>\n",
       "  <tbody>\n",
       "    <tr>\n",
       "      <th>0</th>\n",
       "      <td>1</td>\n",
       "      <td>Ill Health Retirement</td>\n",
       "      <td>08/2012</td>\n",
       "      <td>1984.0</td>\n",
       "      <td>2004.0</td>\n",
       "      <td>Public Servant</td>\n",
       "      <td>A01-A04</td>\n",
       "      <td>Central Office</td>\n",
       "      <td>Corporate Strategy and Peformance</td>\n",
       "      <td>Permanent Full-time</td>\n",
       "      <td>...</td>\n",
       "      <td>N</td>\n",
       "      <td>N</td>\n",
       "      <td>N</td>\n",
       "      <td>Male</td>\n",
       "      <td>56-60</td>\n",
       "      <td>NaN</td>\n",
       "      <td>NaN</td>\n",
       "      <td>NaN</td>\n",
       "      <td>NaN</td>\n",
       "      <td>Yes</td>\n",
       "    </tr>\n",
       "    <tr>\n",
       "      <th>1</th>\n",
       "      <td>2</td>\n",
       "      <td>Voluntary Early Retirement (VER)</td>\n",
       "      <td>08/2012</td>\n",
       "      <td>NaN</td>\n",
       "      <td>NaN</td>\n",
       "      <td>Public Servant</td>\n",
       "      <td>AO5-AO7</td>\n",
       "      <td>Central Office</td>\n",
       "      <td>Corporate Strategy and Peformance</td>\n",
       "      <td>Permanent Full-time</td>\n",
       "      <td>...</td>\n",
       "      <td>N</td>\n",
       "      <td>N</td>\n",
       "      <td>N</td>\n",
       "      <td>Male</td>\n",
       "      <td>56-60</td>\n",
       "      <td>NaN</td>\n",
       "      <td>NaN</td>\n",
       "      <td>NaN</td>\n",
       "      <td>NaN</td>\n",
       "      <td>NaN</td>\n",
       "    </tr>\n",
       "    <tr>\n",
       "      <th>2</th>\n",
       "      <td>3</td>\n",
       "      <td>Voluntary Early Retirement (VER)</td>\n",
       "      <td>05/2012</td>\n",
       "      <td>2011.0</td>\n",
       "      <td>2011.0</td>\n",
       "      <td>Schools Officer</td>\n",
       "      <td>NaN</td>\n",
       "      <td>Central Office</td>\n",
       "      <td>Education Queensland</td>\n",
       "      <td>Permanent Full-time</td>\n",
       "      <td>...</td>\n",
       "      <td>N</td>\n",
       "      <td>N</td>\n",
       "      <td>N</td>\n",
       "      <td>Male</td>\n",
       "      <td>61 or older</td>\n",
       "      <td>NaN</td>\n",
       "      <td>NaN</td>\n",
       "      <td>NaN</td>\n",
       "      <td>NaN</td>\n",
       "      <td>NaN</td>\n",
       "    </tr>\n",
       "  </tbody>\n",
       "</table>\n",
       "<p>3 rows × 56 columns</p>\n",
       "</div>"
      ],
      "text/plain": [
       "   ID                    SeparationType Cease Date  DETE Start Date  \\\n",
       "0   1             Ill Health Retirement    08/2012           1984.0   \n",
       "1   2  Voluntary Early Retirement (VER)    08/2012              NaN   \n",
       "2   3  Voluntary Early Retirement (VER)    05/2012           2011.0   \n",
       "\n",
       "   Role Start Date         Position Classification          Region  \\\n",
       "0           2004.0   Public Servant        A01-A04  Central Office   \n",
       "1              NaN   Public Servant        AO5-AO7  Central Office   \n",
       "2           2011.0  Schools Officer            NaN  Central Office   \n",
       "\n",
       "                       Business Unit    Employment Status  ...   \\\n",
       "0  Corporate Strategy and Peformance  Permanent Full-time  ...    \n",
       "1  Corporate Strategy and Peformance  Permanent Full-time  ...    \n",
       "2               Education Queensland  Permanent Full-time  ...    \n",
       "\n",
       "   Kept informed  Wellness programs  Health & Safety  Gender          Age  \\\n",
       "0              N                  N                N    Male        56-60   \n",
       "1              N                  N                N    Male        56-60   \n",
       "2              N                  N                N    Male  61 or older   \n",
       "\n",
       "   Aboriginal  Torres Strait  South Sea  Disability  NESB  \n",
       "0         NaN            NaN        NaN         NaN   Yes  \n",
       "1         NaN            NaN        NaN         NaN   NaN  \n",
       "2         NaN            NaN        NaN         NaN   NaN  \n",
       "\n",
       "[3 rows x 56 columns]"
      ]
     },
     "execution_count": 225,
     "metadata": {},
     "output_type": "execute_result"
    }
   ],
   "source": [
    "#First, let's re-open the dete_survey dataset\n",
    "#but this time replace the 'Not stated' values with NaN\n",
    "\n",
    "dete_survey = pd.read_csv('dete_survey.csv', na_values='Not Stated')\n",
    "dete_survey.head(3)"
   ]
  },
  {
   "cell_type": "code",
   "execution_count": 226,
   "metadata": {},
   "outputs": [],
   "source": [
    "#Let's drop the columns which we will not use from the DETE survey:\n",
    "\n",
    "columns_to_drop = dete_survey.iloc[:,28:49]\n",
    "dete_survey_updated = dete_survey.drop(columns_to_drop, axis=1)"
   ]
  },
  {
   "cell_type": "code",
   "execution_count": 227,
   "metadata": {},
   "outputs": [],
   "source": [
    "#Let's drop the columns which we will not use from the TAFE survey:\n",
    "\n",
    "drop_columns = tafe_survey.iloc[:, 17:66]\n",
    "tafe_survey_updated = tafe_survey.drop(drop_columns, axis=1)"
   ]
  },
  {
   "cell_type": "markdown",
   "metadata": {},
   "source": [
    "Above, we preformed some data cleaning steps:\n",
    "\n",
    "- 'Not stated' in the dete survey was replaced with NaN.\n",
    "- Columns which will not be used were dropped. The updated versions of the datasets were assigned to two new dataframes - `dete_survey_updated` and `tafe_survey_updated`.\n",
    "\n",
    "\n",
    "## Renaming the columns\n",
    "\n",
    "Next, let's turn our attention to the column names. Each dataframe contains many of the same columns, but the column names are different."
   ]
  },
  {
   "cell_type": "code",
   "execution_count": 228,
   "metadata": {},
   "outputs": [],
   "source": [
    "dete_survey_updated.columns = dete_survey_updated.columns.str.lower().str.replace(' ', '_')"
   ]
  },
  {
   "cell_type": "code",
   "execution_count": 229,
   "metadata": {},
   "outputs": [
    {
     "data": {
      "text/html": [
       "<div>\n",
       "<style scoped>\n",
       "    .dataframe tbody tr th:only-of-type {\n",
       "        vertical-align: middle;\n",
       "    }\n",
       "\n",
       "    .dataframe tbody tr th {\n",
       "        vertical-align: top;\n",
       "    }\n",
       "\n",
       "    .dataframe thead th {\n",
       "        text-align: right;\n",
       "    }\n",
       "</style>\n",
       "<table border=\"1\" class=\"dataframe\">\n",
       "  <thead>\n",
       "    <tr style=\"text-align: right;\">\n",
       "      <th></th>\n",
       "      <th>id</th>\n",
       "      <th>separationtype</th>\n",
       "      <th>cease_date</th>\n",
       "      <th>dete_start_date</th>\n",
       "      <th>role_start_date</th>\n",
       "      <th>position</th>\n",
       "      <th>classification</th>\n",
       "      <th>region</th>\n",
       "      <th>business_unit</th>\n",
       "      <th>employment_status</th>\n",
       "      <th>...</th>\n",
       "      <th>work_life_balance</th>\n",
       "      <th>workload</th>\n",
       "      <th>none_of_the_above</th>\n",
       "      <th>gender</th>\n",
       "      <th>age</th>\n",
       "      <th>aboriginal</th>\n",
       "      <th>torres_strait</th>\n",
       "      <th>south_sea</th>\n",
       "      <th>disability</th>\n",
       "      <th>nesb</th>\n",
       "    </tr>\n",
       "  </thead>\n",
       "  <tbody>\n",
       "    <tr>\n",
       "      <th>0</th>\n",
       "      <td>1</td>\n",
       "      <td>Ill Health Retirement</td>\n",
       "      <td>08/2012</td>\n",
       "      <td>1984.0</td>\n",
       "      <td>2004.0</td>\n",
       "      <td>Public Servant</td>\n",
       "      <td>A01-A04</td>\n",
       "      <td>Central Office</td>\n",
       "      <td>Corporate Strategy and Peformance</td>\n",
       "      <td>Permanent Full-time</td>\n",
       "      <td>...</td>\n",
       "      <td>False</td>\n",
       "      <td>False</td>\n",
       "      <td>True</td>\n",
       "      <td>Male</td>\n",
       "      <td>56-60</td>\n",
       "      <td>NaN</td>\n",
       "      <td>NaN</td>\n",
       "      <td>NaN</td>\n",
       "      <td>NaN</td>\n",
       "      <td>Yes</td>\n",
       "    </tr>\n",
       "    <tr>\n",
       "      <th>1</th>\n",
       "      <td>2</td>\n",
       "      <td>Voluntary Early Retirement (VER)</td>\n",
       "      <td>08/2012</td>\n",
       "      <td>NaN</td>\n",
       "      <td>NaN</td>\n",
       "      <td>Public Servant</td>\n",
       "      <td>AO5-AO7</td>\n",
       "      <td>Central Office</td>\n",
       "      <td>Corporate Strategy and Peformance</td>\n",
       "      <td>Permanent Full-time</td>\n",
       "      <td>...</td>\n",
       "      <td>False</td>\n",
       "      <td>False</td>\n",
       "      <td>False</td>\n",
       "      <td>Male</td>\n",
       "      <td>56-60</td>\n",
       "      <td>NaN</td>\n",
       "      <td>NaN</td>\n",
       "      <td>NaN</td>\n",
       "      <td>NaN</td>\n",
       "      <td>NaN</td>\n",
       "    </tr>\n",
       "    <tr>\n",
       "      <th>2</th>\n",
       "      <td>3</td>\n",
       "      <td>Voluntary Early Retirement (VER)</td>\n",
       "      <td>05/2012</td>\n",
       "      <td>2011.0</td>\n",
       "      <td>2011.0</td>\n",
       "      <td>Schools Officer</td>\n",
       "      <td>NaN</td>\n",
       "      <td>Central Office</td>\n",
       "      <td>Education Queensland</td>\n",
       "      <td>Permanent Full-time</td>\n",
       "      <td>...</td>\n",
       "      <td>False</td>\n",
       "      <td>False</td>\n",
       "      <td>True</td>\n",
       "      <td>Male</td>\n",
       "      <td>61 or older</td>\n",
       "      <td>NaN</td>\n",
       "      <td>NaN</td>\n",
       "      <td>NaN</td>\n",
       "      <td>NaN</td>\n",
       "      <td>NaN</td>\n",
       "    </tr>\n",
       "  </tbody>\n",
       "</table>\n",
       "<p>3 rows × 35 columns</p>\n",
       "</div>"
      ],
      "text/plain": [
       "   id                    separationtype cease_date  dete_start_date  \\\n",
       "0   1             Ill Health Retirement    08/2012           1984.0   \n",
       "1   2  Voluntary Early Retirement (VER)    08/2012              NaN   \n",
       "2   3  Voluntary Early Retirement (VER)    05/2012           2011.0   \n",
       "\n",
       "   role_start_date         position classification          region  \\\n",
       "0           2004.0   Public Servant        A01-A04  Central Office   \n",
       "1              NaN   Public Servant        AO5-AO7  Central Office   \n",
       "2           2011.0  Schools Officer            NaN  Central Office   \n",
       "\n",
       "                       business_unit    employment_status  ...   \\\n",
       "0  Corporate Strategy and Peformance  Permanent Full-time  ...    \n",
       "1  Corporate Strategy and Peformance  Permanent Full-time  ...    \n",
       "2               Education Queensland  Permanent Full-time  ...    \n",
       "\n",
       "   work_life_balance  workload  none_of_the_above  gender          age  \\\n",
       "0              False     False               True    Male        56-60   \n",
       "1              False     False              False    Male        56-60   \n",
       "2              False     False               True    Male  61 or older   \n",
       "\n",
       "   aboriginal  torres_strait  south_sea  disability  nesb  \n",
       "0         NaN            NaN        NaN         NaN   Yes  \n",
       "1         NaN            NaN        NaN         NaN   NaN  \n",
       "2         NaN            NaN        NaN         NaN   NaN  \n",
       "\n",
       "[3 rows x 35 columns]"
      ]
     },
     "execution_count": 229,
     "metadata": {},
     "output_type": "execute_result"
    }
   ],
   "source": [
    "dete_survey_updated.head(3)"
   ]
  },
  {
   "cell_type": "code",
   "execution_count": 230,
   "metadata": {
    "collapsed": true
   },
   "outputs": [],
   "source": [
    "tafe_survey_updated = tafe_survey_updated.rename(columns={\n",
    "    'Record ID':'id', \n",
    "    'CESSATION YEAR': 'cease_date',\n",
    "    'Reason for ceasing employment': 'separationtype',\n",
    "    'Gender. What is your Gender?': 'gender',\n",
    "    'CurrentAge. Current Age': 'age',\n",
    "    'Employment Type. Employment Type': 'employment_status',\n",
    "    'Classification. Classification': 'position',\n",
    "    'LengthofServiceOverall. Overall Length of Service at Institute (in years)': 'institute_service',\n",
    "    'LengthofServiceCurrent. Length of Service at current workplace (in years)': 'role_service',\n",
    "})"
   ]
  },
  {
   "cell_type": "code",
   "execution_count": 231,
   "metadata": {},
   "outputs": [
    {
     "data": {
      "text/html": [
       "<div>\n",
       "<style scoped>\n",
       "    .dataframe tbody tr th:only-of-type {\n",
       "        vertical-align: middle;\n",
       "    }\n",
       "\n",
       "    .dataframe tbody tr th {\n",
       "        vertical-align: top;\n",
       "    }\n",
       "\n",
       "    .dataframe thead th {\n",
       "        text-align: right;\n",
       "    }\n",
       "</style>\n",
       "<table border=\"1\" class=\"dataframe\">\n",
       "  <thead>\n",
       "    <tr style=\"text-align: right;\">\n",
       "      <th></th>\n",
       "      <th>id</th>\n",
       "      <th>Institute</th>\n",
       "      <th>WorkArea</th>\n",
       "      <th>cease_date</th>\n",
       "      <th>separationtype</th>\n",
       "      <th>Contributing Factors. Career Move - Public Sector</th>\n",
       "      <th>Contributing Factors. Career Move - Private Sector</th>\n",
       "      <th>Contributing Factors. Career Move - Self-employment</th>\n",
       "      <th>Contributing Factors. Ill Health</th>\n",
       "      <th>Contributing Factors. Maternity/Family</th>\n",
       "      <th>...</th>\n",
       "      <th>Contributing Factors. Study</th>\n",
       "      <th>Contributing Factors. Travel</th>\n",
       "      <th>Contributing Factors. Other</th>\n",
       "      <th>Contributing Factors. NONE</th>\n",
       "      <th>gender</th>\n",
       "      <th>age</th>\n",
       "      <th>employment_status</th>\n",
       "      <th>position</th>\n",
       "      <th>institute_service</th>\n",
       "      <th>role_service</th>\n",
       "    </tr>\n",
       "  </thead>\n",
       "  <tbody>\n",
       "    <tr>\n",
       "      <th>0</th>\n",
       "      <td>6.341330e+17</td>\n",
       "      <td>Southern Queensland Institute of TAFE</td>\n",
       "      <td>Non-Delivery (corporate)</td>\n",
       "      <td>2010.0</td>\n",
       "      <td>Contract Expired</td>\n",
       "      <td>NaN</td>\n",
       "      <td>NaN</td>\n",
       "      <td>NaN</td>\n",
       "      <td>NaN</td>\n",
       "      <td>NaN</td>\n",
       "      <td>...</td>\n",
       "      <td>NaN</td>\n",
       "      <td>NaN</td>\n",
       "      <td>NaN</td>\n",
       "      <td>NaN</td>\n",
       "      <td>Female</td>\n",
       "      <td>26  30</td>\n",
       "      <td>Temporary Full-time</td>\n",
       "      <td>Administration (AO)</td>\n",
       "      <td>1-2</td>\n",
       "      <td>1-2</td>\n",
       "    </tr>\n",
       "    <tr>\n",
       "      <th>1</th>\n",
       "      <td>6.341337e+17</td>\n",
       "      <td>Mount Isa Institute of TAFE</td>\n",
       "      <td>Non-Delivery (corporate)</td>\n",
       "      <td>2010.0</td>\n",
       "      <td>Retirement</td>\n",
       "      <td>-</td>\n",
       "      <td>-</td>\n",
       "      <td>-</td>\n",
       "      <td>-</td>\n",
       "      <td>-</td>\n",
       "      <td>...</td>\n",
       "      <td>-</td>\n",
       "      <td>Travel</td>\n",
       "      <td>-</td>\n",
       "      <td>-</td>\n",
       "      <td>NaN</td>\n",
       "      <td>NaN</td>\n",
       "      <td>NaN</td>\n",
       "      <td>NaN</td>\n",
       "      <td>NaN</td>\n",
       "      <td>NaN</td>\n",
       "    </tr>\n",
       "  </tbody>\n",
       "</table>\n",
       "<p>2 rows × 23 columns</p>\n",
       "</div>"
      ],
      "text/plain": [
       "             id                              Institute  \\\n",
       "0  6.341330e+17  Southern Queensland Institute of TAFE   \n",
       "1  6.341337e+17            Mount Isa Institute of TAFE   \n",
       "\n",
       "                   WorkArea  cease_date    separationtype  \\\n",
       "0  Non-Delivery (corporate)      2010.0  Contract Expired   \n",
       "1  Non-Delivery (corporate)      2010.0        Retirement   \n",
       "\n",
       "  Contributing Factors. Career Move - Public Sector   \\\n",
       "0                                                NaN   \n",
       "1                                                  -   \n",
       "\n",
       "  Contributing Factors. Career Move - Private Sector   \\\n",
       "0                                                NaN    \n",
       "1                                                  -    \n",
       "\n",
       "  Contributing Factors. Career Move - Self-employment  \\\n",
       "0                                                NaN    \n",
       "1                                                  -    \n",
       "\n",
       "  Contributing Factors. Ill Health Contributing Factors. Maternity/Family  \\\n",
       "0                              NaN                                    NaN   \n",
       "1                                -                                      -   \n",
       "\n",
       "      ...      Contributing Factors. Study Contributing Factors. Travel  \\\n",
       "0     ...                              NaN                          NaN   \n",
       "1     ...                                -                       Travel   \n",
       "\n",
       "  Contributing Factors. Other Contributing Factors. NONE  gender     age  \\\n",
       "0                         NaN                        NaN  Female  26  30   \n",
       "1                           -                          -     NaN     NaN   \n",
       "\n",
       "     employment_status             position institute_service role_service  \n",
       "0  Temporary Full-time  Administration (AO)               1-2          1-2  \n",
       "1                  NaN                  NaN               NaN          NaN  \n",
       "\n",
       "[2 rows x 23 columns]"
      ]
     },
     "execution_count": 231,
     "metadata": {},
     "output_type": "execute_result"
    }
   ],
   "source": [
    "tafe_survey_updated.head(2)"
   ]
  },
  {
   "cell_type": "markdown",
   "metadata": {},
   "source": [
    "In the above few cells, the names of the columns in both dataframes were updated.\n",
    "\n",
    "## Filter the data\n",
    "\n",
    "Next, let's remove more of the data we don't need. Our end goal is to answer the following question:\n",
    "\n",
    "- Are employees who have only worked for the institutes for a short period of time resigning due to some kind of dissatisfaction? What about employees who have been at the job longer?\n",
    "\n",
    "This means that we are only interesed in employees who have resigned."
   ]
  },
  {
   "cell_type": "code",
   "execution_count": 232,
   "metadata": {},
   "outputs": [
    {
     "data": {
      "text/plain": [
       "array(['Ill Health Retirement', 'Voluntary Early Retirement (VER)',\n",
       "       'Resignation-Other reasons', 'Age Retirement',\n",
       "       'Resignation-Other employer',\n",
       "       'Resignation-Move overseas/interstate', 'Other',\n",
       "       'Contract Expired', 'Termination'], dtype=object)"
      ]
     },
     "execution_count": 232,
     "metadata": {},
     "output_type": "execute_result"
    }
   ],
   "source": [
    "dete_survey_updated['separationtype'].unique()\n",
    "\n",
    "\n",
    "##There are a few types of Resignation in the DETE survey"
   ]
  },
  {
   "cell_type": "code",
   "execution_count": 233,
   "metadata": {},
   "outputs": [
    {
     "data": {
      "text/plain": [
       "array(['Contract Expired', 'Retirement', 'Resignation',\n",
       "       'Retrenchment/ Redundancy', 'Termination', 'Transfer', nan],\n",
       "      dtype=object)"
      ]
     },
     "execution_count": 233,
     "metadata": {},
     "output_type": "execute_result"
    }
   ],
   "source": [
    "tafe_survey_updated['separationtype'].unique()"
   ]
  },
  {
   "cell_type": "code",
   "execution_count": 234,
   "metadata": {},
   "outputs": [
    {
     "data": {
      "text/plain": [
       "Age Retirement                          285\n",
       "Resignation-Other reasons               150\n",
       "Resignation-Other employer               91\n",
       "Resignation-Move overseas/interstate     70\n",
       "Voluntary Early Retirement (VER)         67\n",
       "Ill Health Retirement                    61\n",
       "Other                                    49\n",
       "Contract Expired                         34\n",
       "Termination                              15\n",
       "Name: separationtype, dtype: int64"
      ]
     },
     "execution_count": 234,
     "metadata": {},
     "output_type": "execute_result"
    }
   ],
   "source": [
    "dete_survey_updated['separationtype'].value_counts()"
   ]
  },
  {
   "cell_type": "code",
   "execution_count": 235,
   "metadata": {},
   "outputs": [
    {
     "data": {
      "text/plain": [
       "Resignation                 340\n",
       "Contract Expired            127\n",
       "Retrenchment/ Redundancy    104\n",
       "Retirement                   82\n",
       "Transfer                     25\n",
       "Termination                  23\n",
       "Name: separationtype, dtype: int64"
      ]
     },
     "execution_count": 235,
     "metadata": {},
     "output_type": "execute_result"
    }
   ],
   "source": [
    "tafe_survey_updated['separationtype'].value_counts()"
   ]
  },
  {
   "cell_type": "code",
   "execution_count": 236,
   "metadata": {},
   "outputs": [],
   "source": [
    "dete_survey_updated['separationtype'] = dete_survey_updated['separationtype'].str.split('-').str[0]"
   ]
  },
  {
   "cell_type": "code",
   "execution_count": 237,
   "metadata": {},
   "outputs": [
    {
     "data": {
      "text/plain": [
       "Resignation                         311\n",
       "Age Retirement                      285\n",
       "Voluntary Early Retirement (VER)     67\n",
       "Ill Health Retirement                61\n",
       "Other                                49\n",
       "Contract Expired                     34\n",
       "Termination                          15\n",
       "Name: separationtype, dtype: int64"
      ]
     },
     "execution_count": 237,
     "metadata": {},
     "output_type": "execute_result"
    }
   ],
   "source": [
    "dete_survey_updated['separationtype'].value_counts()"
   ]
  },
  {
   "cell_type": "code",
   "execution_count": 238,
   "metadata": {
    "collapsed": true
   },
   "outputs": [],
   "source": [
    "dete_resignations = dete_survey_updated[dete_survey_updated['separationtype']=='Resignation'].copy()"
   ]
  },
  {
   "cell_type": "code",
   "execution_count": 239,
   "metadata": {},
   "outputs": [],
   "source": [
    "tafe_resignations = tafe_survey_updated[tafe_survey_updated['separationtype'] == 'Resignation'].copy()"
   ]
  },
  {
   "cell_type": "markdown",
   "metadata": {},
   "source": [
    "Above, two new dataframes were created - dete_resignations and tafe_resignations. They hold data only for those employees who resigned.\n",
    "\n",
    "## Verify the data\n",
    "\n",
    "Next, we'll focus on verifying that the years in the `cease_date` and `dete_start_date columns` make sense.\n",
    "\n",
    "- Since the `cease_date` is the last year of the person's employment and the `dete_start_date` is the person's first year of employment, it wouldn't make sense to have years after the current date.\n",
    "- Given that most people in this field start working in their 20s, it's also unlikely that the `dete_start_date` was before the year 1940.\n",
    "\n",
    "If we have many years higher than the current date or lower than 1940, we wouldn't want to continue with our analysis, because it could mean there's something very wrong with the data. If there are a small amount of values that are unrealistically high or low, we can remove them."
   ]
  },
  {
   "cell_type": "code",
   "execution_count": 240,
   "metadata": {},
   "outputs": [
    {
     "data": {
      "text/plain": [
       "2012       126\n",
       "2013        74\n",
       "01/2014     22\n",
       "12/2013     17\n",
       "06/2013     14\n",
       "09/2013     11\n",
       "07/2013      9\n",
       "11/2013      9\n",
       "10/2013      6\n",
       "08/2013      4\n",
       "05/2013      2\n",
       "05/2012      2\n",
       "07/2012      1\n",
       "09/2010      1\n",
       "07/2006      1\n",
       "2010         1\n",
       "Name: cease_date, dtype: int64"
      ]
     },
     "execution_count": 240,
     "metadata": {},
     "output_type": "execute_result"
    }
   ],
   "source": [
    "dete_resignations['cease_date'].value_counts()"
   ]
  },
  {
   "cell_type": "code",
   "execution_count": 241,
   "metadata": {},
   "outputs": [],
   "source": [
    "dete_resignations['cease_date'] = dete_resignations['cease_date'].str.split('/').str[-1].astype(float)"
   ]
  },
  {
   "cell_type": "code",
   "execution_count": 242,
   "metadata": {},
   "outputs": [
    {
     "data": {
      "text/plain": [
       "2006.0      1\n",
       "2010.0      2\n",
       "2012.0    129\n",
       "2013.0    146\n",
       "2014.0     22\n",
       "Name: cease_date, dtype: int64"
      ]
     },
     "execution_count": 242,
     "metadata": {},
     "output_type": "execute_result"
    }
   ],
   "source": [
    "dete_resignations['cease_date'].value_counts().sort_index()"
   ]
  },
  {
   "cell_type": "code",
   "execution_count": 243,
   "metadata": {},
   "outputs": [
    {
     "data": {
      "text/plain": [
       "1963.0     1\n",
       "1971.0     1\n",
       "1972.0     1\n",
       "1973.0     1\n",
       "1974.0     2\n",
       "1975.0     1\n",
       "1976.0     2\n",
       "1977.0     1\n",
       "1980.0     5\n",
       "1982.0     1\n",
       "1983.0     2\n",
       "1984.0     1\n",
       "1985.0     3\n",
       "1986.0     3\n",
       "1987.0     1\n",
       "1988.0     4\n",
       "1989.0     4\n",
       "1990.0     5\n",
       "1991.0     4\n",
       "1992.0     6\n",
       "1993.0     5\n",
       "1994.0     6\n",
       "1995.0     4\n",
       "1996.0     6\n",
       "1997.0     5\n",
       "1998.0     6\n",
       "1999.0     8\n",
       "2000.0     9\n",
       "2001.0     3\n",
       "2002.0     6\n",
       "2003.0     6\n",
       "2004.0    14\n",
       "2005.0    15\n",
       "2006.0    13\n",
       "2007.0    21\n",
       "2008.0    22\n",
       "2009.0    13\n",
       "2010.0    17\n",
       "2011.0    24\n",
       "2012.0    21\n",
       "2013.0    10\n",
       "Name: dete_start_date, dtype: int64"
      ]
     },
     "execution_count": 243,
     "metadata": {},
     "output_type": "execute_result"
    }
   ],
   "source": [
    "dete_resignations['dete_start_date'].value_counts().sort_index(ascending=True)"
   ]
  },
  {
   "cell_type": "code",
   "execution_count": 244,
   "metadata": {},
   "outputs": [
    {
     "data": {
      "text/plain": [
       "2009.0      2\n",
       "2010.0     68\n",
       "2011.0    116\n",
       "2012.0     94\n",
       "2013.0     55\n",
       "Name: cease_date, dtype: int64"
      ]
     },
     "execution_count": 244,
     "metadata": {},
     "output_type": "execute_result"
    }
   ],
   "source": [
    "tafe_resignations['cease_date'].value_counts().sort_index()"
   ]
  },
  {
   "cell_type": "code",
   "execution_count": 245,
   "metadata": {},
   "outputs": [
    {
     "data": {
      "text/plain": [
       "<matplotlib.axes._subplots.AxesSubplot at 0x7fb46f88f320>"
      ]
     },
     "execution_count": 245,
     "metadata": {},
     "output_type": "execute_result"
    },
    {
     "data": {
      "image/png": "[encoded data removed]",
      "text/plain": [
       "<matplotlib.figure.Figure at 0x7fb46f8f6dd8>"
      ]
     },
     "metadata": {},
     "output_type": "display_data"
    }
   ],
   "source": [
    "dete_resignations[['dete_start_date','cease_date']].plot(kind='box')"
   ]
  },
  {
   "cell_type": "markdown",
   "metadata": {},
   "source": [
    "Above, we cleaned the columns of both dataframes which contain the start and cease date of the resigned employees. There do not appear to be any major issues with the values. The span of the cease years for both dataframes is a bit different:\n",
    "\n",
    "- DETE: 2006 - 2014\n",
    "- TAFE: 2009 - 2013\n",
    "\n",
    "In the Human Resources field, the length of time an employee spent in a workplace is referred to as their years of service.\n",
    "\n",
    "The TAFE dataset contains a column called `institute_service`. Unfortunately, the DETE dataset does not have such a column. We do, however, have the needed data to create this column. It should contain the difference between the `cease_date` and the `dete_start_date columns`."
   ]
  },
  {
   "cell_type": "code",
   "execution_count": 246,
   "metadata": {},
   "outputs": [],
   "source": [
    "dete_resignations['institute_service'] = dete_resignations['cease_date'] - dete_resignations['dete_start_date']"
   ]
  },
  {
   "cell_type": "markdown",
   "metadata": {
    "collapsed": true
   },
   "source": [
    "## Identify dissatisfied employees\n",
    "\n",
    "Next, we'll identify any employees who resigned because they were dissatisfied. Below are the columns we'll use to categorize employees as \"dissatisfied\" from each dataframe:\n",
    "\n",
    " 1. TAFE:\n",
    "    - Contributing Factors. Dissatisfaction\n",
    "    - Contributing Factors. Job Dissatisfaction\n",
    " 2. DETE:\n",
    "    - job_dissatisfaction\n",
    "    - dissatisfaction_with_the_department\n",
    "    - physical_work_environment\n",
    "    - lack_of_recognition\n",
    "    - lack_of_job_security\n",
    "    - work_location\n",
    "    - employment_conditions\n",
    "    - work_life_balance\n",
    "    - workload\n",
    "    \n",
    "If the employee indicated any of the factors above caused them to resign, we'll mark them as dissatisfied in a new column."
   ]
  },
  {
   "cell_type": "code",
   "execution_count": 247,
   "metadata": {},
   "outputs": [
    {
     "data": {
      "text/plain": [
       "-                                         277\n",
       "Contributing Factors. Dissatisfaction      55\n",
       "Name: Contributing Factors. Dissatisfaction, dtype: int64"
      ]
     },
     "execution_count": 247,
     "metadata": {},
     "output_type": "execute_result"
    }
   ],
   "source": [
    "tafe_resignations['Contributing Factors. Dissatisfaction'].value_counts()"
   ]
  },
  {
   "cell_type": "code",
   "execution_count": 248,
   "metadata": {},
   "outputs": [
    {
     "data": {
      "text/plain": [
       "-                      270\n",
       "Job Dissatisfaction     62\n",
       "Name: Contributing Factors. Job Dissatisfaction, dtype: int64"
      ]
     },
     "execution_count": 248,
     "metadata": {},
     "output_type": "execute_result"
    }
   ],
   "source": [
    "tafe_resignations['Contributing Factors. Job Dissatisfaction'].value_counts()"
   ]
  },
  {
   "cell_type": "code",
   "execution_count": 249,
   "metadata": {
    "collapsed": true
   },
   "outputs": [],
   "source": [
    "def updated_vals(x):\n",
    "    if pd.isnull(x):\n",
    "        return np.nan\n",
    "    elif x == '-':\n",
    "        return False\n",
    "    else:\n",
    "        return True"
   ]
  },
  {
   "cell_type": "code",
   "execution_count": 250,
   "metadata": {},
   "outputs": [],
   "source": [
    "tafe_resignations[['Contributing Factors. Dissatisfaction', 'Contributing Factors. Job Dissatisfaction']] = tafe_resignations[['Contributing Factors. Dissatisfaction', 'Contributing Factors. Job Dissatisfaction']].applymap(updated_vals)"
   ]
  },
  {
   "cell_type": "code",
   "execution_count": 251,
   "metadata": {},
   "outputs": [
    {
     "data": {
      "text/plain": [
       "False    277\n",
       "True      55\n",
       "Name: Contributing Factors. Dissatisfaction, dtype: int64"
      ]
     },
     "execution_count": 251,
     "metadata": {},
     "output_type": "execute_result"
    }
   ],
   "source": [
    "tafe_resignations['Contributing Factors. Dissatisfaction'].value_counts()"
   ]
  },
  {
   "cell_type": "code",
   "execution_count": 252,
   "metadata": {},
   "outputs": [
    {
     "data": {
      "text/plain": [
       "False    270\n",
       "True      62\n",
       "Name: Contributing Factors. Job Dissatisfaction, dtype: int64"
      ]
     },
     "execution_count": 252,
     "metadata": {},
     "output_type": "execute_result"
    }
   ],
   "source": [
    "tafe_resignations['Contributing Factors. Job Dissatisfaction'].value_counts()"
   ]
  },
  {
   "cell_type": "code",
   "execution_count": 253,
   "metadata": {},
   "outputs": [],
   "source": [
    "tafe_resignations['dissatisfied'] = tafe_resignations[['Contributing Factors. Dissatisfaction', 'Contributing Factors. Job Dissatisfaction']].any(axis='columns', skipna=False)"
   ]
  },
  {
   "cell_type": "code",
   "execution_count": 254,
   "metadata": {},
   "outputs": [
    {
     "data": {
      "text/plain": [
       "False    241\n",
       "True      91\n",
       "Name: dissatisfied, dtype: int64"
      ]
     },
     "execution_count": 254,
     "metadata": {},
     "output_type": "execute_result"
    }
   ],
   "source": [
    "tafe_resignations['dissatisfied'].value_counts()"
   ]
  },
  {
   "cell_type": "code",
   "execution_count": 255,
   "metadata": {},
   "outputs": [],
   "source": [
    "dete_diss_columns = ['job_dissatisfaction', 'dissatisfaction_with_the_department', 'physical_work_environment',\n",
    "'lack_of_recognition', 'lack_of_job_security', 'work_location', 'employment_conditions',\n",
    "'work_life_balance', 'workload']\n",
    "\n",
    "dete_resignations['dissatisfied'] = dete_resignations[dete_diss_columns].any(axis='columns', skipna=False)"
   ]
  },
  {
   "cell_type": "code",
   "execution_count": 256,
   "metadata": {},
   "outputs": [
    {
     "data": {
      "text/plain": [
       "False    162\n",
       "True     149\n",
       "Name: dissatisfied, dtype: int64"
      ]
     },
     "execution_count": 256,
     "metadata": {},
     "output_type": "execute_result"
    }
   ],
   "source": [
    "dete_resignations['dissatisfied'].value_counts()"
   ]
  },
  {
   "cell_type": "code",
   "execution_count": 257,
   "metadata": {
    "collapsed": true
   },
   "outputs": [],
   "source": [
    "dete_resignations_up = dete_resignations.copy()\n",
    "tafe_resignations_up = tafe_resignations.copy()"
   ]
  },
  {
   "cell_type": "markdown",
   "metadata": {},
   "source": [
    "Above, we created a `dissatisfied` column in both dataframes. The values of the columns are either True or False based on the emplyees' response to the questions in the columns we identified above.\n",
    "\n",
    "Additionally, we created copies of each dataframe.\n",
    "\n",
    "## Combining the data"
   ]
  },
  {
   "cell_type": "code",
   "execution_count": 258,
   "metadata": {
    "collapsed": true
   },
   "outputs": [],
   "source": [
    "dete_resignations_up['institute'] = 'DETE'\n",
    "tafe_resignations_up['institute'] = 'TAFE'"
   ]
  },
  {
   "cell_type": "code",
   "execution_count": 259,
   "metadata": {},
   "outputs": [],
   "source": [
    "combined = pd.concat([dete_resignations_up, tafe_resignations_up], ignore_index=True)"
   ]
  },
  {
   "cell_type": "code",
   "execution_count": 260,
   "metadata": {},
   "outputs": [],
   "source": [
    "combined_updated = combined.dropna(thresh=500, axis=1).copy()"
   ]
  },
  {
   "cell_type": "markdown",
   "metadata": {},
   "source": [
    "In the above few cells we did the following:\n",
    "\n",
    "- created an `institute` column in each dataset indicating where the employee worked;\n",
    "- combined the two datasets into a new one called combined;\n",
    "- removed any columns from the new dataset which had over 500 NaN values. The resulting dataset was assigned to combined_updated.\n",
    "\n",
    "## Clean the 'institute_service' column\n",
    "\n",
    "Next we need to clean the `institute_service` column as it contains values in a couple of different formats. To analyze the data, we'll convert these numbers into categories. We'll base our anlaysis on this [article](https://www.businesswire.com/news/home/20171108006002/en/Age-Number-Engage-Employees-Career-Stage), which makes the argument that understanding employee's needs according to career stage instead of age is more effective.\n",
    "\n",
    "We'll use the slightly modified definitions below:\n",
    "\n",
    "- New: Less than 3 years at a company\n",
    "- Experienced: 3-6 years at a company\n",
    "- Established: 7-10 years at a company\n",
    "- Veteran: 11 or more years at a company"
   ]
  },
  {
   "cell_type": "code",
   "execution_count": 261,
   "metadata": {},
   "outputs": [
    {
     "data": {
      "text/plain": [
       "array([7.0, 18.0, 3.0, 15.0, 14.0, 5.0, nan, 30.0, 32.0, 39.0, 17.0, 9.0,\n",
       "       6.0, 1.0, 35.0, 38.0, 36.0, 19.0, 4.0, 26.0, 10.0, 8.0, 2.0, 0.0,\n",
       "       23.0, 13.0, 16.0, 12.0, 21.0, 20.0, 24.0, 33.0, 22.0, 28.0, 49.0,\n",
       "       11.0, 41.0, 27.0, 42.0, 25.0, 29.0, 34.0, 31.0, '3-4', '7-10',\n",
       "       '1-2', 'Less than 1 year', '11-20', '5-6', 'More than 20 years'],\n",
       "      dtype=object)"
      ]
     },
     "execution_count": 261,
     "metadata": {},
     "output_type": "execute_result"
    }
   ],
   "source": [
    "combined_updated['institute_service'].unique()"
   ]
  },
  {
   "cell_type": "code",
   "execution_count": 262,
   "metadata": {},
   "outputs": [
    {
     "name": "stderr",
     "output_type": "stream",
     "text": [
      "/dataquest/system/env/python3/lib/python3.4/site-packages/ipykernel/__main__.py:2: FutureWarning:\n",
      "\n",
      "currently extract(expand=None) means expand=False (return Index/Series/DataFrame) but in a future version of pandas this will be changed to expand=True (return DataFrame)\n",
      "\n"
     ]
    }
   ],
   "source": [
    "combined_updated['institute_service'] = combined_updated['institute_service'].astype('str')\n",
    "combined_updated['institute_service'] = combined_updated['institute_service'].str.extract(r'(\\d+)')\n",
    "combined_updated['institute_service'] = combined_updated['institute_service'].astype(float)"
   ]
  },
  {
   "cell_type": "code",
   "execution_count": 263,
   "metadata": {},
   "outputs": [
    {
     "data": {
      "text/plain": [
       "1.0     159\n",
       "3.0      83\n",
       "5.0      56\n",
       "7.0      34\n",
       "11.0     30\n",
       "0.0      20\n",
       "20.0     17\n",
       "6.0      17\n",
       "4.0      16\n",
       "9.0      14\n",
       "2.0      14\n",
       "13.0      8\n",
       "8.0       8\n",
       "15.0      7\n",
       "17.0      6\n",
       "10.0      6\n",
       "12.0      6\n",
       "14.0      6\n",
       "22.0      6\n",
       "16.0      5\n",
       "18.0      5\n",
       "24.0      4\n",
       "23.0      4\n",
       "39.0      3\n",
       "19.0      3\n",
       "21.0      3\n",
       "32.0      3\n",
       "28.0      2\n",
       "36.0      2\n",
       "25.0      2\n",
       "30.0      2\n",
       "26.0      2\n",
       "29.0      1\n",
       "38.0      1\n",
       "42.0      1\n",
       "27.0      1\n",
       "41.0      1\n",
       "35.0      1\n",
       "49.0      1\n",
       "34.0      1\n",
       "33.0      1\n",
       "31.0      1\n",
       "Name: institute_service, dtype: int64"
      ]
     },
     "execution_count": 263,
     "metadata": {},
     "output_type": "execute_result"
    }
   ],
   "source": [
    "combined_updated['institute_service'].value_counts()"
   ]
  },
  {
   "cell_type": "code",
   "execution_count": 264,
   "metadata": {},
   "outputs": [],
   "source": [
    "def career_stages(x):\n",
    "    if pd.isnull(x):\n",
    "        return np.nan\n",
    "    elif x < 3:\n",
    "        return 'New'\n",
    "    elif 3 <= x <= 6:\n",
    "        return 'Experienced'\n",
    "    elif 6 < x <= 10:\n",
    "        return 'Established'\n",
    "    elif x > 10:\n",
    "        return 'Veteran'"
   ]
  },
  {
   "cell_type": "code",
   "execution_count": 265,
   "metadata": {
    "collapsed": true
   },
   "outputs": [],
   "source": [
    "combined_updated['service_cat'] = combined_updated['institute_service'].apply(career_stages)"
   ]
  },
  {
   "cell_type": "code",
   "execution_count": 266,
   "metadata": {},
   "outputs": [
    {
     "data": {
      "text/plain": [
       "New            193\n",
       "Experienced    172\n",
       "Veteran        136\n",
       "NaN             88\n",
       "Established     62\n",
       "Name: service_cat, dtype: int64"
      ]
     },
     "execution_count": 266,
     "metadata": {},
     "output_type": "execute_result"
    }
   ],
   "source": [
    "combined_updated['service_cat'].value_counts(dropna=False)"
   ]
  },
  {
   "cell_type": "markdown",
   "metadata": {},
   "source": [
    "Above, we cleaned the `institute_service` column. We used the value from that column in order to determine in which category the employee falls. We created a new column - `service_cat` - where we see the category of the employee.\n",
    "\n",
    "## Dissatisfied by category"
   ]
  },
  {
   "cell_type": "code",
   "execution_count": 267,
   "metadata": {},
   "outputs": [
    {
     "data": {
      "text/plain": [
       "False    403\n",
       "True     240\n",
       "NaN        8\n",
       "Name: dissatisfied, dtype: int64"
      ]
     },
     "execution_count": 267,
     "metadata": {},
     "output_type": "execute_result"
    }
   ],
   "source": [
    "combined_updated['dissatisfied'].value_counts(dropna=False)"
   ]
  },
  {
   "cell_type": "code",
   "execution_count": 268,
   "metadata": {},
   "outputs": [],
   "source": [
    "combined_updated['dissatisfied'] = combined_updated['dissatisfied'].fillna(False)"
   ]
  },
  {
   "cell_type": "code",
   "execution_count": 269,
   "metadata": {},
   "outputs": [],
   "source": [
    "table = pd.pivot_table(combined_updated, index='service_cat', values='dissatisfied')\n",
    "table = table.sort_values(by=['dissatisfied'])"
   ]
  },
  {
   "cell_type": "code",
   "execution_count": 270,
   "metadata": {},
   "outputs": [
    {
     "data": {
      "text/plain": [
       "<matplotlib.axes._subplots.AxesSubplot at 0x7fb46f80cc88>"
      ]
     },
     "execution_count": 270,
     "metadata": {},
     "output_type": "execute_result"
    },
    {
     "data": {
      "image/png": "[encoded data removed]",
      "text/plain": [
       "<matplotlib.figure.Figure at 0x7fb46f80c470>"
      ]
     },
     "metadata": {},
     "output_type": "display_data"
    }
   ],
   "source": [
    "table.plot(kind='barh', legend=False, figsize=(10,5), fontsize=12)"
   ]
  },
  {
   "cell_type": "markdown",
   "metadata": {},
   "source": [
    "Above, we created a pivot table which calcualtes the percentage of dissatisfied employees for each service category. Afterwards, we plotted the results on a horizontal bar chart. \n",
    "\n",
    "We can see that of the employees who took the two serveys, Established and Veteran employees are more likely to resign due to dissatisfaction. New employees are least likely to do so.\n",
    "\n",
    "## How many people in each career stage resigned due to some kind of dissatisfaction?"
   ]
  },
  {
   "cell_type": "code",
   "execution_count": 271,
   "metadata": {},
   "outputs": [
    {
     "data": {
      "text/html": [
       "<div>\n",
       "<style scoped>\n",
       "    .dataframe tbody tr th:only-of-type {\n",
       "        vertical-align: middle;\n",
       "    }\n",
       "\n",
       "    .dataframe tbody tr th {\n",
       "        vertical-align: top;\n",
       "    }\n",
       "\n",
       "    .dataframe thead th {\n",
       "        text-align: right;\n",
       "    }\n",
       "</style>\n",
       "<table border=\"1\" class=\"dataframe\">\n",
       "  <thead>\n",
       "    <tr style=\"text-align: right;\">\n",
       "      <th></th>\n",
       "      <th>dissatisfied_count</th>\n",
       "    </tr>\n",
       "    <tr>\n",
       "      <th>service_cat</th>\n",
       "      <th></th>\n",
       "    </tr>\n",
       "  </thead>\n",
       "  <tbody>\n",
       "    <tr>\n",
       "      <th>Established</th>\n",
       "      <td>32.0</td>\n",
       "    </tr>\n",
       "    <tr>\n",
       "      <th>New</th>\n",
       "      <td>57.0</td>\n",
       "    </tr>\n",
       "    <tr>\n",
       "      <th>Experienced</th>\n",
       "      <td>59.0</td>\n",
       "    </tr>\n",
       "    <tr>\n",
       "      <th>Veteran</th>\n",
       "      <td>66.0</td>\n",
       "    </tr>\n",
       "  </tbody>\n",
       "</table>\n",
       "</div>"
      ],
      "text/plain": [
       "             dissatisfied_count\n",
       "service_cat                    \n",
       "Established                32.0\n",
       "New                        57.0\n",
       "Experienced                59.0\n",
       "Veteran                    66.0"
      ]
     },
     "execution_count": 271,
     "metadata": {},
     "output_type": "execute_result"
    }
   ],
   "source": [
    "diss_count = pd.pivot_table(combined_updated, index='service_cat', values='dissatisfied', aggfunc='sum')\n",
    "diss_count = diss_count.sort_values(by=['dissatisfied'])\n",
    "diss_count = diss_count.rename(columns={'dissatisfied':'dissatisfied_count'})\n",
    "diss_count"
   ]
  },
  {
   "cell_type": "markdown",
   "metadata": {},
   "source": [
    "Above we see the number of people in each service category who left due to dissatisfaction.\n",
    "\n",
    "## Dissatisfied by age\n",
    "\n",
    "Below we will clean the `age` column by grouping the employees in age groups. Afterwards, we will answer the question:\n",
    "\n",
    "- How many people in each age group resgined due to some kind of dissatisfaction?\n",
    "\n",
    "In order to clean the data, we will divide the age groups like this:\n",
    "\n",
    "- 20s\n",
    "- 30s\n",
    "- 40s\n",
    "- 50s\n",
    "- 60+"
   ]
  },
  {
   "cell_type": "code",
   "execution_count": 272,
   "metadata": {},
   "outputs": [
    {
     "data": {
      "text/plain": [
       "51-55            71\n",
       "NaN              55\n",
       "41-45            48\n",
       "41  45           45\n",
       "46-50            42\n",
       "36-40            41\n",
       "46  50           39\n",
       "26-30            35\n",
       "21  25           33\n",
       "26  30           32\n",
       "31  35           32\n",
       "36  40           32\n",
       "21-25            29\n",
       "31-35            29\n",
       "56 or older      29\n",
       "56-60            26\n",
       "61 or older      23\n",
       "20 or younger    10\n",
       "Name: age, dtype: int64"
      ]
     },
     "execution_count": 272,
     "metadata": {},
     "output_type": "execute_result"
    }
   ],
   "source": [
    "combined_updated['age'].value_counts(dropna=False)"
   ]
  },
  {
   "cell_type": "code",
   "execution_count": 273,
   "metadata": {},
   "outputs": [],
   "source": [
    "combined_updated['age'] = combined_updated['age'].astype('str')"
   ]
  },
  {
   "cell_type": "code",
   "execution_count": 274,
   "metadata": {
    "collapsed": true
   },
   "outputs": [],
   "source": [
    "def age(s):\n",
    "    if s[0] == '2':\n",
    "        return '20s'\n",
    "    elif s[0] == '3':\n",
    "        return '30s'\n",
    "    elif s[0] == '4':\n",
    "        return '40s'\n",
    "    elif s[0] == '5':\n",
    "        return '50s'\n",
    "    elif s[0] == '6':\n",
    "        return '60s'\n",
    "    elif s == 'nan':\n",
    "        return np.nan"
   ]
  },
  {
   "cell_type": "code",
   "execution_count": 275,
   "metadata": {
    "collapsed": true
   },
   "outputs": [],
   "source": [
    "combined_updated['age'] = combined_updated['age'].apply(age)"
   ]
  },
  {
   "cell_type": "code",
   "execution_count": 276,
   "metadata": {},
   "outputs": [
    {
     "data": {
      "text/plain": [
       "40s    174\n",
       "20s    139\n",
       "30s    134\n",
       "50s    126\n",
       "60s     23\n",
       "Name: age, dtype: int64"
      ]
     },
     "execution_count": 276,
     "metadata": {},
     "output_type": "execute_result"
    }
   ],
   "source": [
    "combined_updated['age'].value_counts()"
   ]
  },
  {
   "cell_type": "code",
   "execution_count": 277,
   "metadata": {},
   "outputs": [
    {
     "data": {
      "text/html": [
       "<div>\n",
       "<style scoped>\n",
       "    .dataframe tbody tr th:only-of-type {\n",
       "        vertical-align: middle;\n",
       "    }\n",
       "\n",
       "    .dataframe tbody tr th {\n",
       "        vertical-align: top;\n",
       "    }\n",
       "\n",
       "    .dataframe thead th {\n",
       "        text-align: right;\n",
       "    }\n",
       "</style>\n",
       "<table border=\"1\" class=\"dataframe\">\n",
       "  <thead>\n",
       "    <tr style=\"text-align: right;\">\n",
       "      <th></th>\n",
       "      <th>dissatisfied_count</th>\n",
       "    </tr>\n",
       "    <tr>\n",
       "      <th>age</th>\n",
       "      <th></th>\n",
       "    </tr>\n",
       "  </thead>\n",
       "  <tbody>\n",
       "    <tr>\n",
       "      <th>60s</th>\n",
       "      <td>12.0</td>\n",
       "    </tr>\n",
       "    <tr>\n",
       "      <th>30s</th>\n",
       "      <td>48.0</td>\n",
       "    </tr>\n",
       "    <tr>\n",
       "      <th>20s</th>\n",
       "      <td>49.0</td>\n",
       "    </tr>\n",
       "    <tr>\n",
       "      <th>50s</th>\n",
       "      <td>51.0</td>\n",
       "    </tr>\n",
       "    <tr>\n",
       "      <th>40s</th>\n",
       "      <td>66.0</td>\n",
       "    </tr>\n",
       "  </tbody>\n",
       "</table>\n",
       "</div>"
      ],
      "text/plain": [
       "     dissatisfied_count\n",
       "age                    \n",
       "60s                12.0\n",
       "30s                48.0\n",
       "20s                49.0\n",
       "50s                51.0\n",
       "40s                66.0"
      ]
     },
     "execution_count": 277,
     "metadata": {},
     "output_type": "execute_result"
    }
   ],
   "source": [
    "age_diss_count = pd.pivot_table(combined_updated, index='age', values='dissatisfied', aggfunc='sum')\n",
    "age_diss_count = age_diss_count.sort_values(by=['dissatisfied'])\n",
    "age_diss_count = age_diss_count.rename(columns={'dissatisfied': 'dissatisfied_count'})\n",
    "age_diss_count"
   ]
  },
  {
   "cell_type": "code",
   "execution_count": 278,
   "metadata": {},
   "outputs": [
    {
     "data": {
      "text/plain": [
       "<matplotlib.axes._subplots.AxesSubplot at 0x7fb46f8256a0>"
      ]
     },
     "execution_count": 278,
     "metadata": {},
     "output_type": "execute_result"
    },
    {
     "data": {
      "image/png": "[encoded data removed]",
      "text/plain": [
       "<matplotlib.figure.Figure at 0x7fb46f81b7b8>"
      ]
     },
     "metadata": {},
     "output_type": "display_data"
    }
   ],
   "source": [
    "age_perc = pd.pivot_table(combined_updated, index='age', values='dissatisfied')\n",
    "age_perc = age_perc.sort_values(by=['dissatisfied'])\n",
    "age_perc.plot(kind='barh', legend=False, figsize=(10,10), fontsize=12)"
   ]
  },
  {
   "cell_type": "markdown",
   "metadata": {},
   "source": [
    "In the charts above we see:\n",
    "\n",
    "1. The number of people in each age group who resigned due to dissatisfaction.\n",
    "2. The percent of people in each age group who resigned due to dissatisfaction.\n",
    "\n",
    "Overall, the number of young employees of the two institues who resigned due to job dissatisfaction is lowest. This might be due to the fact that they were early in their career development and were still looking for a career path to follow.\n",
    "\n",
    "# Dissatisfied by institute\n",
    "\n",
    "- Did more employees in the DETE survey or TAFE survey end their employment because they were dissatisfied in some way?"
   ]
  },
  {
   "cell_type": "code",
   "execution_count": 279,
   "metadata": {},
   "outputs": [
    {
     "data": {
      "text/html": [
       "<div>\n",
       "<style scoped>\n",
       "    .dataframe tbody tr th:only-of-type {\n",
       "        vertical-align: middle;\n",
       "    }\n",
       "\n",
       "    .dataframe tbody tr th {\n",
       "        vertical-align: top;\n",
       "    }\n",
       "\n",
       "    .dataframe thead th {\n",
       "        text-align: right;\n",
       "    }\n",
       "</style>\n",
       "<table border=\"1\" class=\"dataframe\">\n",
       "  <thead>\n",
       "    <tr style=\"text-align: right;\">\n",
       "      <th></th>\n",
       "      <th>dissatisfied_count</th>\n",
       "    </tr>\n",
       "    <tr>\n",
       "      <th>institute</th>\n",
       "      <th></th>\n",
       "    </tr>\n",
       "  </thead>\n",
       "  <tbody>\n",
       "    <tr>\n",
       "      <th>DETE</th>\n",
       "      <td>149.0</td>\n",
       "    </tr>\n",
       "    <tr>\n",
       "      <th>TAFE</th>\n",
       "      <td>91.0</td>\n",
       "    </tr>\n",
       "  </tbody>\n",
       "</table>\n",
       "</div>"
      ],
      "text/plain": [
       "           dissatisfied_count\n",
       "institute                    \n",
       "DETE                    149.0\n",
       "TAFE                     91.0"
      ]
     },
     "execution_count": 279,
     "metadata": {},
     "output_type": "execute_result"
    }
   ],
   "source": [
    "institute_count = pd.pivot_table(combined_updated, index='institute', values='dissatisfied', aggfunc='sum')\n",
    "institute_count = institute_count.rename(columns={'dissatisfied': 'dissatisfied_count'})\n",
    "institute_count"
   ]
  },
  {
   "cell_type": "code",
   "execution_count": 280,
   "metadata": {},
   "outputs": [
    {
     "data": {
      "text/plain": [
       "<matplotlib.axes._subplots.AxesSubplot at 0x7fb46f789320>"
      ]
     },
     "execution_count": 280,
     "metadata": {},
     "output_type": "execute_result"
    },
    {
     "data": {
      "image/png": "[encoded data removed]",
      "text/plain": [
       "<matplotlib.figure.Figure at 0x7fb46f799ac8>"
      ]
     },
     "metadata": {},
     "output_type": "display_data"
    }
   ],
   "source": [
    "by_perc = pd.pivot_table(combined_updated, index='institute', values='dissatisfied')\n",
    "by_perc.plot(kind='bar', rot=360, figsize=(10,5), fontsize=12, legend=False)"
   ]
  },
  {
   "cell_type": "markdown",
   "metadata": {},
   "source": [
    "In the charts above we see:\n",
    "\n",
    "1. The number of people from each institute who resigned due to dissatisfaction.\n",
    "2. The percent of people from each institute who resigned due to dissatisfaction.\n",
    "\n",
    "It seems that DETE employees have resigned due to job dissatisfaction more often than TAFE employees."
   ]
  },
  {
   "cell_type": "markdown",
   "metadata": {},
   "source": [
    "## Dissatisfaction by gender"
   ]
  },
  {
   "cell_type": "code",
   "execution_count": 281,
   "metadata": {},
   "outputs": [
    {
     "data": {
      "text/plain": [
       "<matplotlib.axes._subplots.AxesSubplot at 0x7fb46f7140b8>"
      ]
     },
     "execution_count": 281,
     "metadata": {},
     "output_type": "execute_result"
    },
    {
     "data": {
      "image/png": "[encoded data removed]",
      "text/plain": [
       "<matplotlib.figure.Figure at 0x7fb46f6ce2b0>"
      ]
     },
     "metadata": {},
     "output_type": "display_data"
    }
   ],
   "source": [
    "by_gender = pd.pivot_table(combined_updated, index='gender', values='dissatisfied')\n",
    "by_gender.plot(kind='bar', rot=360, figsize=(10,5), fontsize=12, ylim=[0, 0.5], legend=False)"
   ]
  },
  {
   "cell_type": "markdown",
   "metadata": {},
   "source": [
    "## Dissatisfied by employment status"
   ]
  },
  {
   "cell_type": "code",
   "execution_count": 282,
   "metadata": {},
   "outputs": [
    {
     "data": {
      "text/plain": [
       "<matplotlib.axes._subplots.AxesSubplot at 0x7fb46f6c2860>"
      ]
     },
     "execution_count": 282,
     "metadata": {},
     "output_type": "execute_result"
    },
    {
     "data": {
      "image/png": "[encoded data removed]",
      "text/plain": [
       "<matplotlib.figure.Figure at 0x7fb46f689908>"
      ]
     },
     "metadata": {},
     "output_type": "display_data"
    }
   ],
   "source": [
    "by_status = pd.pivot_table(combined_updated, index='employment_status', values='dissatisfied')\n",
    "by_status = by_status.sort_values(by=['dissatisfied'])\n",
    "by_status.plot(kind='barh', figsize=(10,5), fontsize=12, legend=False)"
   ]
  },
  {
   "cell_type": "markdown",
   "metadata": {},
   "source": [
    "## Dissatisfied by position"
   ]
  },
  {
   "cell_type": "code",
   "execution_count": 283,
   "metadata": {},
   "outputs": [
    {
     "data": {
      "text/plain": [
       "<matplotlib.axes._subplots.AxesSubplot at 0x7fb46f6d6e48>"
      ]
     },
     "execution_count": 283,
     "metadata": {},
     "output_type": "execute_result"
    },
    {
     "data": {
      "image/png": "[encoded data removed]",
      "text/plain": [
       "<matplotlib.figure.Figure at 0x7fb46f6b5da0>"
      ]
     },
     "metadata": {},
     "output_type": "display_data"
    }
   ],
   "source": [
    "by_position = pd.pivot_table(combined_updated, index='position', values='dissatisfied')\n",
    "by_position = by_position.sort_values(by=['dissatisfied'])\n",
    "by_position.plot(kind='barh', figsize=(15, 10), fontsize=12, legend=False, xlim=[0.05, 1.01])"
   ]
  },
  {
   "cell_type": "markdown",
   "metadata": {},
   "source": [
    "## Dissatisfied by Age and Gender"
   ]
  },
  {
   "cell_type": "code",
   "execution_count": 284,
   "metadata": {},
   "outputs": [
    {
     "data": {
      "text/html": [
       "<div>\n",
       "<style scoped>\n",
       "    .dataframe tbody tr th:only-of-type {\n",
       "        vertical-align: middle;\n",
       "    }\n",
       "\n",
       "    .dataframe tbody tr th {\n",
       "        vertical-align: top;\n",
       "    }\n",
       "\n",
       "    .dataframe thead th {\n",
       "        text-align: right;\n",
       "    }\n",
       "</style>\n",
       "<table border=\"1\" class=\"dataframe\">\n",
       "  <thead>\n",
       "    <tr style=\"text-align: right;\">\n",
       "      <th></th>\n",
       "      <th></th>\n",
       "      <th>dissatisfied</th>\n",
       "    </tr>\n",
       "    <tr>\n",
       "      <th>gender</th>\n",
       "      <th>age</th>\n",
       "      <th></th>\n",
       "    </tr>\n",
       "  </thead>\n",
       "  <tbody>\n",
       "    <tr>\n",
       "      <th rowspan=\"5\" valign=\"top\">Female</th>\n",
       "      <th>20s</th>\n",
       "      <td>0.375000</td>\n",
       "    </tr>\n",
       "    <tr>\n",
       "      <th>30s</th>\n",
       "      <td>0.336842</td>\n",
       "    </tr>\n",
       "    <tr>\n",
       "      <th>40s</th>\n",
       "      <td>0.389313</td>\n",
       "    </tr>\n",
       "    <tr>\n",
       "      <th>50s</th>\n",
       "      <td>0.375000</td>\n",
       "    </tr>\n",
       "    <tr>\n",
       "      <th>60s</th>\n",
       "      <td>0.416667</td>\n",
       "    </tr>\n",
       "    <tr>\n",
       "      <th rowspan=\"5\" valign=\"top\">Male</th>\n",
       "      <th>20s</th>\n",
       "      <td>0.285714</td>\n",
       "    </tr>\n",
       "    <tr>\n",
       "      <th>30s</th>\n",
       "      <td>0.421053</td>\n",
       "    </tr>\n",
       "    <tr>\n",
       "      <th>40s</th>\n",
       "      <td>0.357143</td>\n",
       "    </tr>\n",
       "    <tr>\n",
       "      <th>50s</th>\n",
       "      <td>0.444444</td>\n",
       "    </tr>\n",
       "    <tr>\n",
       "      <th>60s</th>\n",
       "      <td>0.750000</td>\n",
       "    </tr>\n",
       "  </tbody>\n",
       "</table>\n",
       "</div>"
      ],
      "text/plain": [
       "            dissatisfied\n",
       "gender age              \n",
       "Female 20s      0.375000\n",
       "       30s      0.336842\n",
       "       40s      0.389313\n",
       "       50s      0.375000\n",
       "       60s      0.416667\n",
       "Male   20s      0.285714\n",
       "       30s      0.421053\n",
       "       40s      0.357143\n",
       "       50s      0.444444\n",
       "       60s      0.750000"
      ]
     },
     "execution_count": 284,
     "metadata": {},
     "output_type": "execute_result"
    }
   ],
   "source": [
    "gender_age = pd.pivot_table(combined_updated, index=['gender', 'age'], values='dissatisfied')\n",
    "gender_age"
   ]
  },
  {
   "cell_type": "code",
   "execution_count": 285,
   "metadata": {},
   "outputs": [
    {
     "data": {
      "text/plain": [
       "<matplotlib.axes._subplots.AxesSubplot at 0x7fb46f6960f0>"
      ]
     },
     "execution_count": 285,
     "metadata": {},
     "output_type": "execute_result"
    },
    {
     "data": {
      "image/png": "[encoded data removed]",
      "text/plain": [
       "<matplotlib.figure.Figure at 0x7fb46f601748>"
      ]
     },
     "metadata": {},
     "output_type": "display_data"
    }
   ],
   "source": [
    "gender_age = gender_age.sort_values(by=['dissatisfied'])\n",
    "gender_age.plot(kind='barh', figsize=(15, 10), legend=False, xlim=[0, 0.60])"
   ]
  },
  {
   "cell_type": "code",
   "execution_count": 286,
   "metadata": {},
   "outputs": [
    {
     "data": {
      "text/plain": [
       "<matplotlib.axes._subplots.AxesSubplot at 0x7fb46f5782e8>"
      ]
     },
     "execution_count": 286,
     "metadata": {},
     "output_type": "execute_result"
    },
    {
     "data": {
      "image/png": "[encoded data removed]",
      "text/plain": [
       "<matplotlib.figure.Figure at 0x7fb46f501588>"
      ]
     },
     "metadata": {},
     "output_type": "display_data"
    }
   ],
   "source": [
    "status_age = pd.pivot_table(combined_updated, index=['employment_status', 'age'], values='dissatisfied')\n",
    "status_age = status_age.sort_values(by=['dissatisfied'])\n",
    "status_age.plot(kind='barh', figsize=(15, 10), legend=False, xlim=[0, 0.7])"
   ]
  },
  {
   "cell_type": "markdown",
   "metadata": {},
   "source": [
    "# Conclusion\n",
    "\n",
    "In this project, we analyzed the exit surveys of employees of the DETE and TAFE institutes. We focused on those who resiged due to some sort of job dissatisfaction and concluded that:\n",
    "\n",
    "- young, inexperienced employees resigned least often due to job dissatisfaction;\n",
    "- DETE employees resigned more often due to job dissatisfaction than TAFE employees;\n",
    "- Male employees resigned more often due to job dissatisfaction than Female employees;\n",
    "- Males in their 20s resigned due to dissatisfaction least often;\n",
    "- 100% of the resigned Guidence officers who filled in the surveys resigned due to dissatisfaction."
   ]
  },
  {
   "cell_type": "code",
   "execution_count": null,
   "metadata": {
    "collapsed": true
   },
   "outputs": [],
   "source": []
  }
 ],
 "metadata": {
  "kernelspec": {
   "display_name": "Python 3",
   "language": "python",
   "name": "python3"
  },
  "language_info": {
   "codemirror_mode": {
    "name": "ipython",
    "version": 3
   },
   "file_extension": ".py",
   "mimetype": "text/x-python",
   "name": "python",
   "nbconvert_exporter": "python",
   "pygments_lexer": "ipython3",
   "version": "3.8.5"
  }
 },
 "nbformat": 4,
 "nbformat_minor": 4
}
